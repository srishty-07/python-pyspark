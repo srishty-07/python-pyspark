{
 "cells": [
  {
   "cell_type": "code",
   "execution_count": 1,
   "id": "9adab926",
   "metadata": {},
   "outputs": [
    {
     "name": "stderr",
     "output_type": "stream",
     "text": [
      "Setting default log level to \"WARN\".\n",
      "To adjust logging level use sc.setLogLevel(newLevel). For SparkR, use setLogLevel(newLevel).\n",
      "23/09/22 05:00:34 WARN NativeCodeLoader: Unable to load native-hadoop library for your platform... using builtin-java classes where applicable\n",
      "23/09/22 05:00:36 WARN Utils: Service 'SparkUI' could not bind on port 4040. Attempting port 4041.\n"
     ]
    }
   ],
   "source": [
    "import findspark\n",
    "findspark.init()\n",
    "from pyspark.sql import SparkSession\n",
    "spark = SparkSession.builder.appName(\"exapmle\").getOrCreate()"
   ]
  },
  {
   "cell_type": "code",
   "execution_count": 7,
   "id": "ec15b901",
   "metadata": {},
   "outputs": [],
   "source": [
    "from pyspark.sql.functions import *\n",
    "from pyspark.sql.types import *"
   ]
  },
  {
   "cell_type": "code",
   "execution_count": 3,
   "id": "50cf745a",
   "metadata": {},
   "outputs": [
    {
     "name": "stderr",
     "output_type": "stream",
     "text": [
      "                                                                                \r"
     ]
    }
   ],
   "source": [
    "df = spark.read.json(\"constructors.json\")"
   ]
  },
  {
   "cell_type": "code",
   "execution_count": 4,
   "id": "be6b0a11",
   "metadata": {},
   "outputs": [
    {
     "name": "stdout",
     "output_type": "stream",
     "text": [
      "+-------------+--------------+-----------+-----------+--------------------+\n",
      "|constructorId|constructorRef|       name|nationality|                 url|\n",
      "+-------------+--------------+-----------+-----------+--------------------+\n",
      "|            1|       mclaren|    McLaren|    British|http://en.wikiped...|\n",
      "|            2|    bmw_sauber| BMW Sauber|     German|http://en.wikiped...|\n",
      "|            3|      williams|   Williams|    British|http://en.wikiped...|\n",
      "|            4|       renault|    Renault|     French|http://en.wikiped...|\n",
      "|            5|    toro_rosso| Toro Rosso|    Italian|http://en.wikiped...|\n",
      "|            6|       ferrari|    Ferrari|    Italian|http://en.wikiped...|\n",
      "|            7|        toyota|     Toyota|   Japanese|http://en.wikiped...|\n",
      "|            8|   super_aguri|Super Aguri|   Japanese|http://en.wikiped...|\n",
      "|            9|      red_bull|   Red Bull|   Austrian|http://en.wikiped...|\n",
      "|           10|   force_india|Force India|     Indian|http://en.wikiped...|\n",
      "|           11|         honda|      Honda|   Japanese|http://en.wikiped...|\n",
      "|           12|        spyker|     Spyker|      Dutch|http://en.wikiped...|\n",
      "|           13|           mf1|        MF1|    Russian|http://en.wikiped...|\n",
      "|           14|    spyker_mf1| Spyker MF1|      Dutch|http://en.wikiped...|\n",
      "|           15|        sauber|     Sauber|      Swiss|http://en.wikiped...|\n",
      "|           16|           bar|        BAR|    British|http://en.wikiped...|\n",
      "|           17|        jordan|     Jordan|      Irish|http://en.wikiped...|\n",
      "|           18|       minardi|    Minardi|    Italian|http://en.wikiped...|\n",
      "|           19|        jaguar|     Jaguar|    British|http://en.wikiped...|\n",
      "|           20|         prost|      Prost|     French|http://en.wikiped...|\n",
      "+-------------+--------------+-----------+-----------+--------------------+\n",
      "only showing top 20 rows\n",
      "\n"
     ]
    }
   ],
   "source": [
    "df.show()"
   ]
  },
  {
   "cell_type": "code",
   "execution_count": 10,
   "id": "14680285",
   "metadata": {},
   "outputs": [],
   "source": [
    "final_df = df.withColumn(\"ingestion_date\",current_timestamp()).drop(\"url\")"
   ]
  },
  {
   "cell_type": "code",
   "execution_count": 12,
   "id": "37cf5741",
   "metadata": {},
   "outputs": [
    {
     "name": "stdout",
     "output_type": "stream",
     "text": [
      "+-------------+--------------+-----------+-----------+-----------------------+\n",
      "|constructorId|constructorRef|name       |nationality|ingestion_date         |\n",
      "+-------------+--------------+-----------+-----------+-----------------------+\n",
      "|1            |mclaren       |McLaren    |British    |2023-09-22 05:45:52.572|\n",
      "|2            |bmw_sauber    |BMW Sauber |German     |2023-09-22 05:45:52.572|\n",
      "|3            |williams      |Williams   |British    |2023-09-22 05:45:52.572|\n",
      "|4            |renault       |Renault    |French     |2023-09-22 05:45:52.572|\n",
      "|5            |toro_rosso    |Toro Rosso |Italian    |2023-09-22 05:45:52.572|\n",
      "|6            |ferrari       |Ferrari    |Italian    |2023-09-22 05:45:52.572|\n",
      "|7            |toyota        |Toyota     |Japanese   |2023-09-22 05:45:52.572|\n",
      "|8            |super_aguri   |Super Aguri|Japanese   |2023-09-22 05:45:52.572|\n",
      "|9            |red_bull      |Red Bull   |Austrian   |2023-09-22 05:45:52.572|\n",
      "|10           |force_india   |Force India|Indian     |2023-09-22 05:45:52.572|\n",
      "|11           |honda         |Honda      |Japanese   |2023-09-22 05:45:52.572|\n",
      "|12           |spyker        |Spyker     |Dutch      |2023-09-22 05:45:52.572|\n",
      "|13           |mf1           |MF1        |Russian    |2023-09-22 05:45:52.572|\n",
      "|14           |spyker_mf1    |Spyker MF1 |Dutch      |2023-09-22 05:45:52.572|\n",
      "|15           |sauber        |Sauber     |Swiss      |2023-09-22 05:45:52.572|\n",
      "|16           |bar           |BAR        |British    |2023-09-22 05:45:52.572|\n",
      "|17           |jordan        |Jordan     |Irish      |2023-09-22 05:45:52.572|\n",
      "|18           |minardi       |Minardi    |Italian    |2023-09-22 05:45:52.572|\n",
      "|19           |jaguar        |Jaguar     |British    |2023-09-22 05:45:52.572|\n",
      "|20           |prost         |Prost      |French     |2023-09-22 05:45:52.572|\n",
      "+-------------+--------------+-----------+-----------+-----------------------+\n",
      "only showing top 20 rows\n",
      "\n"
     ]
    }
   ],
   "source": [
    "final_df.show(truncate = False)"
   ]
  },
  {
   "cell_type": "code",
   "execution_count": 13,
   "id": "64ce473f",
   "metadata": {},
   "outputs": [],
   "source": [
    "# save dataframe :1) as file 2) as table(it is benficial as table we can have sql queries on it if we use table format )\n",
    "output_files=\"/home/labuser/Downloads/constructor_parquet\""
   ]
  },
  {
   "cell_type": "code",
   "execution_count": 17,
   "id": "cfb80ffc",
   "metadata": {},
   "outputs": [],
   "source": [
    "#this is save as file\n",
    "# final_df.write.parquet(f\"{output_files}\")\n",
    "# if we want to overwrite a file after any change we made we will use mode as overwrite\n",
    "final_df.write.mode(\"overwrite\").parquet(f\"{output_files}\")"
   ]
  },
  {
   "cell_type": "code",
   "execution_count": 23,
   "id": "74809112",
   "metadata": {},
   "outputs": [],
   "source": [
    "# this is save as a table\n",
    "final_df.write.mode(\"overwrite\").option(\"path\",\"/home/labuser/Downloads/constructor_Table\").saveAsTable(\"constructorTable\")\n",
    "# even we are using it as save as table still it will be by default saved in parquet file to save sapce as it will be compressed so spark by default save into parquet"
   ]
  },
  {
   "cell_type": "code",
   "execution_count": 20,
   "id": "c6449c36",
   "metadata": {},
   "outputs": [
    {
     "name": "stdout",
     "output_type": "stream",
     "text": [
      "+-------------+--------------+-----------+-----------+--------------------+\n",
      "|constructorId|constructorRef|       name|nationality|      ingestion_date|\n",
      "+-------------+--------------+-----------+-----------+--------------------+\n",
      "|            1|       mclaren|    McLaren|    British|2023-09-22 05:57:...|\n",
      "|            2|    bmw_sauber| BMW Sauber|     German|2023-09-22 05:57:...|\n",
      "|            3|      williams|   Williams|    British|2023-09-22 05:57:...|\n",
      "|            4|       renault|    Renault|     French|2023-09-22 05:57:...|\n",
      "|            5|    toro_rosso| Toro Rosso|    Italian|2023-09-22 05:57:...|\n",
      "|            6|       ferrari|    Ferrari|    Italian|2023-09-22 05:57:...|\n",
      "|            7|        toyota|     Toyota|   Japanese|2023-09-22 05:57:...|\n",
      "|            8|   super_aguri|Super Aguri|   Japanese|2023-09-22 05:57:...|\n",
      "|            9|      red_bull|   Red Bull|   Austrian|2023-09-22 05:57:...|\n",
      "|           10|   force_india|Force India|     Indian|2023-09-22 05:57:...|\n",
      "|           11|         honda|      Honda|   Japanese|2023-09-22 05:57:...|\n",
      "|           12|        spyker|     Spyker|      Dutch|2023-09-22 05:57:...|\n",
      "|           13|           mf1|        MF1|    Russian|2023-09-22 05:57:...|\n",
      "|           14|    spyker_mf1| Spyker MF1|      Dutch|2023-09-22 05:57:...|\n",
      "|           15|        sauber|     Sauber|      Swiss|2023-09-22 05:57:...|\n",
      "|           16|           bar|        BAR|    British|2023-09-22 05:57:...|\n",
      "|           17|        jordan|     Jordan|      Irish|2023-09-22 05:57:...|\n",
      "|           18|       minardi|    Minardi|    Italian|2023-09-22 05:57:...|\n",
      "|           19|        jaguar|     Jaguar|    British|2023-09-22 05:57:...|\n",
      "|           20|         prost|      Prost|     French|2023-09-22 05:57:...|\n",
      "+-------------+--------------+-----------+-----------+--------------------+\n",
      "only showing top 20 rows\n",
      "\n"
     ]
    }
   ],
   "source": [
    "#WRITE SQL\n",
    "spark.sql(\"select * from constructorTable\").show()"
   ]
  },
  {
   "cell_type": "code",
   "execution_count": null,
   "id": "129fe93f",
   "metadata": {},
   "outputs": [],
   "source": []
  }
 ],
 "metadata": {
  "kernelspec": {
   "display_name": "Python 3 (ipykernel)",
   "language": "python",
   "name": "python3"
  },
  "language_info": {
   "codemirror_mode": {
    "name": "ipython",
    "version": 3
   },
   "file_extension": ".py",
   "mimetype": "text/x-python",
   "name": "python",
   "nbconvert_exporter": "python",
   "pygments_lexer": "ipython3",
   "version": "3.11.4"
  }
 },
 "nbformat": 4,
 "nbformat_minor": 5
}
