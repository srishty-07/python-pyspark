{
 "cells": [
  {
   "cell_type": "code",
   "execution_count": 1,
   "id": "d569d054",
   "metadata": {},
   "outputs": [
    {
     "name": "stdout",
     "output_type": "stream",
     "text": [
      "<class 'int'>\n"
     ]
    }
   ],
   "source": [
    "a=10\n",
    "print(type(a))"
   ]
  },
  {
   "cell_type": "code",
   "execution_count": 2,
   "id": "eb6ffe98",
   "metadata": {},
   "outputs": [],
   "source": [
    "b=\"Srishty\""
   ]
  },
  {
   "cell_type": "code",
   "execution_count": 9,
   "id": "7d3a645b",
   "metadata": {},
   "outputs": [
    {
     "name": "stdout",
     "output_type": "stream",
     "text": [
      "<class 'str'>\n",
      "<class 'str'>\n",
      "<class 'str'>\n",
      "Srishty srishty 'srishty'\n"
     ]
    }
   ],
   "source": [
    "c='srishty'\n",
    "d=\"'srishty'\"\n",
    "#for multiline - triple quotes\n",
    "print(type(b))\n",
    "print(type(c))\n",
    "print(type(d))\n",
    "print(b+' '+c+' '+d)"
   ]
  },
  {
   "cell_type": "code",
   "execution_count": 11,
   "id": "ae43d233",
   "metadata": {},
   "outputs": [
    {
     "name": "stdout",
     "output_type": "stream",
     "text": [
      "<class 'bool'>\n"
     ]
    }
   ],
   "source": [
    "a = True\n",
    "b = False\n",
    "print(type(a))"
   ]
  },
  {
   "cell_type": "code",
   "execution_count": 12,
   "id": "910731a0",
   "metadata": {},
   "outputs": [
    {
     "name": "stdout",
     "output_type": "stream",
     "text": [
      "<class 'bool'>\n"
     ]
    }
   ],
   "source": [
    "print(type(b))"
   ]
  },
  {
   "cell_type": "code",
   "execution_count": 13,
   "id": "efa8a797",
   "metadata": {},
   "outputs": [
    {
     "name": "stdout",
     "output_type": "stream",
     "text": [
      "2\n"
     ]
    }
   ],
   "source": [
    "print(True+True)"
   ]
  },
  {
   "cell_type": "code",
   "execution_count": 14,
   "id": "bbfeefe2",
   "metadata": {},
   "outputs": [
    {
     "name": "stdout",
     "output_type": "stream",
     "text": [
      "1\n"
     ]
    }
   ],
   "source": [
    "print(True-False)"
   ]
  },
  {
   "cell_type": "code",
   "execution_count": 15,
   "id": "a941c90c",
   "metadata": {},
   "outputs": [],
   "source": [
    "c=10+20j"
   ]
  },
  {
   "cell_type": "code",
   "execution_count": 16,
   "id": "fa652d3e",
   "metadata": {},
   "outputs": [
    {
     "name": "stdout",
     "output_type": "stream",
     "text": [
      "(10+20j)\n"
     ]
    }
   ],
   "source": [
    "print(c)"
   ]
  },
  {
   "cell_type": "code",
   "execution_count": 17,
   "id": "08335149",
   "metadata": {},
   "outputs": [
    {
     "name": "stdout",
     "output_type": "stream",
     "text": [
      "<class 'complex'>\n"
     ]
    }
   ],
   "source": [
    "print(type(c))"
   ]
  },
  {
   "cell_type": "code",
   "execution_count": 19,
   "id": "3bd564f5",
   "metadata": {},
   "outputs": [],
   "source": [
    "a=10\n",
    "# it will show location id where the value 10 will be stored\n",
    "#we have a single object having value 10 and any other variable that has value 10 then it will point automatically to that object\n",
    "b=10\n",
    "print(id(a))\n",
    "print(id(b))"
   ]
  },
  {
   "cell_type": "code",
   "execution_count": 21,
   "id": "dcfd0398",
   "metadata": {},
   "outputs": [
    {
     "name": "stdout",
     "output_type": "stream",
     "text": [
      "7\n",
      "8885192\n",
      "13\n",
      "8885384\n"
     ]
    }
   ],
   "source": [
    "s=7\n",
    "print(s)\n",
    "print(id(s))\n",
    "#after that a new object will be created and the old one can not be retrieved so for new s a new object will be created therefore we can see difft id's for both s\n",
    "s=13\n",
    "print(s)\n",
    "print(id(s))"
   ]
  },
  {
   "cell_type": "code",
   "execution_count": 22,
   "id": "1ebce55a",
   "metadata": {},
   "outputs": [],
   "source": [
    "# s{start:end-1:skip}\n",
    "s=\"abcdefghijklmnopqrstuvwxyz\""
   ]
  },
  {
   "cell_type": "code",
   "execution_count": 24,
   "id": "2c3641b0",
   "metadata": {},
   "outputs": [
    {
     "data": {
      "text/plain": [
       "'mno'"
      ]
     },
     "execution_count": 24,
     "metadata": {},
     "output_type": "execute_result"
    }
   ],
   "source": [
    "s[12:-11]"
   ]
  },
  {
   "cell_type": "code",
   "execution_count": 26,
   "id": "a00b6ea5",
   "metadata": {},
   "outputs": [
    {
     "data": {
      "text/plain": [
       "'xyz'"
      ]
     },
     "execution_count": 26,
     "metadata": {},
     "output_type": "execute_result"
    }
   ],
   "source": [
    "s[-3:]"
   ]
  },
  {
   "cell_type": "code",
   "execution_count": 27,
   "id": "5c240901",
   "metadata": {},
   "outputs": [
    {
     "data": {
      "text/plain": [
       "'abcdefghijklmn'"
      ]
     },
     "execution_count": 27,
     "metadata": {},
     "output_type": "execute_result"
    }
   ],
   "source": [
    "s[:-12]"
   ]
  },
  {
   "cell_type": "code",
   "execution_count": 28,
   "id": "41933f1e",
   "metadata": {},
   "outputs": [
    {
     "name": "stdout",
     "output_type": "stream",
     "text": [
      "0.5\n",
      "0\n",
      "0.0\n"
     ]
    }
   ],
   "source": [
    "#operators\n",
    "#depending upon the variable the output for floordivision will change (//)\n",
    "a=2\n",
    "b=4\n",
    "c=6.0\n",
    "print(a/b)\n",
    "print(a//b)\n",
    "print(a//c)"
   ]
  },
  {
   "cell_type": "code",
   "execution_count": 29,
   "id": "c4b7e2f1",
   "metadata": {},
   "outputs": [
    {
     "name": "stdout",
     "output_type": "stream",
     "text": [
      "True\n",
      "True\n",
      "True\n",
      "False\n",
      "False\n"
     ]
    }
   ],
   "source": [
    "a=True\n",
    "b=False\n",
    "print(a or a)\n",
    "print(a and a)\n",
    "print(a or b)\n",
    "print(b or b)\n",
    "print(a and b)"
   ]
  },
  {
   "cell_type": "code",
   "execution_count": 30,
   "id": "211882eb",
   "metadata": {},
   "outputs": [],
   "source": [
    "is_geological_survey_complete = True\n",
    "is_environmental_clearance_received = True\n",
    "is_market_demand_high = False\n",
    "should_start_drilling = is_geological_survey_complete and is_environmental_clearance_received and is_market_demand_high"
   ]
  },
  {
   "cell_type": "code",
   "execution_count": 31,
   "id": "3fb1d98c",
   "metadata": {},
   "outputs": [
    {
     "name": "stdout",
     "output_type": "stream",
     "text": [
      "False\n"
     ]
    }
   ],
   "source": [
    "print(should_start_drilling)\n"
   ]
  },
  {
   "cell_type": "code",
   "execution_count": 32,
   "id": "d982d693",
   "metadata": {},
   "outputs": [],
   "source": [
    "# Boolean Variables\n",
    "HasExplorationPermit = True\n",
    "HasDrillingRights = True\n",
    "HasEnvironmentalApproval = False\n",
    "HasOilDiscovery = True\n",
    "\n",
    "# Logical Operations\n",
    "IsExplorationAllowed = HasExplorationPermit and HasDrillingRights and not HasEnvironmentalApproval\n",
    "IsDiscoveryProfitable = HasOilDiscovery and (HasExplorationPermit or HasDrillingRights)"
   ]
  },
  {
   "cell_type": "code",
   "execution_count": 33,
   "id": "6450527f",
   "metadata": {},
   "outputs": [
    {
     "name": "stdout",
     "output_type": "stream",
     "text": [
      "True\n"
     ]
    }
   ],
   "source": [
    "print(IsExplorationAllowed)"
   ]
  },
  {
   "cell_type": "code",
   "execution_count": 34,
   "id": "4fabe7da",
   "metadata": {},
   "outputs": [
    {
     "name": "stdout",
     "output_type": "stream",
     "text": [
      "True\n"
     ]
    }
   ],
   "source": [
    "print(IsDiscoveryProfitable)"
   ]
  },
  {
   "cell_type": "code",
   "execution_count": 35,
   "id": "1bbd2f30",
   "metadata": {},
   "outputs": [
    {
     "data": {
      "text/plain": [
       "'sevensevensevensevensevensevenseven'"
      ]
     },
     "execution_count": 35,
     "metadata": {},
     "output_type": "execute_result"
    }
   ],
   "source": [
    "\"seven\"*7"
   ]
  },
  {
   "cell_type": "code",
   "execution_count": 37,
   "id": "96248855",
   "metadata": {},
   "outputs": [
    {
     "name": "stdout",
     "output_type": "stream",
     "text": [
      "[10, 'srishty', 7, 9.8, True]\n",
      "<class 'list'>\n"
     ]
    }
   ],
   "source": [
    "#LIST\n",
    "# slicing and indexing can be performed\n",
    "# order is maintained\n",
    "# Duplictaes are allowed\n",
    "# list is mutable(we can edit something inside that object)- same object is created and that weill only be edited\n",
    "a=[10,\"srishty\",7,9.8,True]\n",
    "print(a)\n",
    "print(type(a))"
   ]
  },
  {
   "cell_type": "code",
   "execution_count": 38,
   "id": "3df31a23",
   "metadata": {},
   "outputs": [
    {
     "name": "stdout",
     "output_type": "stream",
     "text": [
      "140396802185408\n",
      "140396802185408\n"
     ]
    }
   ],
   "source": [
    "print(id(a))\n",
    "a.append(26)\n",
    "print(id(a))"
   ]
  },
  {
   "cell_type": "code",
   "execution_count": 40,
   "id": "35e48cc0",
   "metadata": {},
   "outputs": [],
   "source": [
    "#tuple\n",
    "#same as list but it is immutable\n",
    "#syntax: in paranthesis : ()\n",
    "a=(\"srishty\",True,\"2002-02-07\",67,8)\n",
    "# a.append(1) #we cannnot edit list"
   ]
  },
  {
   "cell_type": "code",
   "execution_count": 41,
   "id": "be3de48e",
   "metadata": {},
   "outputs": [],
   "source": [
    "#tuple is faster bcoz it is immutable\n"
   ]
  },
  {
   "cell_type": "code",
   "execution_count": 43,
   "id": "ee64597b",
   "metadata": {},
   "outputs": [
    {
     "name": "stdout",
     "output_type": "stream",
     "text": [
      "I am srishty working as IDA\n",
      "I am srishty working as IDA\n"
     ]
    }
   ],
   "source": [
    "#formatted string\n",
    "name = \"srishty\"\n",
    "dept = \"IDA\"\n",
    "print(\"I am {} working as {}\".format(name,dept))\n",
    "print(\"I am %s working as %s\" %(name,dept))"
   ]
  },
  {
   "cell_type": "code",
   "execution_count": 44,
   "id": "79ae906c",
   "metadata": {},
   "outputs": [
    {
     "name": "stdout",
     "output_type": "stream",
     "text": [
      "I am srishty working as IDA\n"
     ]
    }
   ],
   "source": [
    "#latest way of formatted string \n",
    "print(f\"I am {name} working as {dept}\")"
   ]
  },
  {
   "cell_type": "code",
   "execution_count": 46,
   "id": "1f8d1b04",
   "metadata": {},
   "outputs": [],
   "source": [
    "# Employee Information:\n",
    "name = \"John Doe\"\n",
    "job_title = \"Senior Geologist\"\n",
    "department = \"Geology\"\n",
    "email = \"johndoe@email.com\"\n",
    "phone = \"123-456-7890\""
   ]
  },
  {
   "cell_type": "code",
   "execution_count": 53,
   "id": "24f1c458",
   "metadata": {},
   "outputs": [
    {
     "name": "stdout",
     "output_type": "stream",
     "text": [
      " name : John Doe \n",
      " job_title : Senior Geologist \n",
      " department : Geology \n",
      " email : johndoe@email.com \n",
      " phone : 123-456-7890 \n"
     ]
    }
   ],
   "source": [
    "print(f\" name : {name} \\n job_title : {job_title} \\n department : {department} \\n email : {email} \\n phone : {phone} \")"
   ]
  },
  {
   "cell_type": "code",
   "execution_count": 54,
   "id": "f6328625",
   "metadata": {},
   "outputs": [],
   "source": [
    "#set\n",
    "#heterogenous object\n",
    "#duplivctaes are not allowed\n",
    "#order is not preserved\n",
    "#slicinh and indexing are not possible"
   ]
  },
  {
   "cell_type": "code",
   "execution_count": 55,
   "id": "757ee5d3",
   "metadata": {},
   "outputs": [],
   "source": [
    "c={10,10.5,\"shelll\",True,True,10,10,10,\"Python\"}"
   ]
  },
  {
   "cell_type": "code",
   "execution_count": 56,
   "id": "9a052348",
   "metadata": {},
   "outputs": [
    {
     "name": "stdout",
     "output_type": "stream",
     "text": [
      "{True, 10.5, 'shelll', 10, 'Python'}\n"
     ]
    }
   ],
   "source": [
    "print(c)\n"
   ]
  },
  {
   "cell_type": "code",
   "execution_count": 57,
   "id": "50680f3e",
   "metadata": {},
   "outputs": [],
   "source": [
    "c.add(55)"
   ]
  },
  {
   "cell_type": "code",
   "execution_count": 59,
   "id": "6e432314",
   "metadata": {},
   "outputs": [
    {
     "name": "stdout",
     "output_type": "stream",
     "text": [
      "{'location': 'delhi', 'name': 'srishty', 'age': 21}\n"
     ]
    }
   ],
   "source": [
    "#dictionary\n",
    "# {}\n",
    "# key value piar\n",
    "#allows heterogenous object\n",
    "#order is maintinaed\n",
    "#no duplicates(no duplicate key but value can be duplivcate)\n",
    "d={\"location\":\"delhi\",\"name\":\"srishty\",\"age\":21}\n",
    "print(d)"
   ]
  },
  {
   "cell_type": "code",
   "execution_count": 60,
   "id": "5a45eacc",
   "metadata": {},
   "outputs": [],
   "source": [
    "d['location']=\"bangalore\""
   ]
  },
  {
   "cell_type": "code",
   "execution_count": 61,
   "id": "50001647",
   "metadata": {},
   "outputs": [
    {
     "name": "stdout",
     "output_type": "stream",
     "text": [
      "{'location': 'bangalore', 'name': 'srishty', 'age': 21}\n"
     ]
    }
   ],
   "source": [
    "print(d)"
   ]
  },
  {
   "cell_type": "code",
   "execution_count": 62,
   "id": "3d862c44",
   "metadata": {},
   "outputs": [],
   "source": [
    "#membership operator : (in) and (not in)"
   ]
  },
  {
   "cell_type": "code",
   "execution_count": 63,
   "id": "18c2bedc",
   "metadata": {},
   "outputs": [
    {
     "name": "stdout",
     "output_type": "stream",
     "text": [
      "Is Hydrotreating Unit installed? True\n",
      "Is Thermal Cracking Unit obsolete? True\n"
     ]
    }
   ],
   "source": [
    "#to chcek whether a value is present in list/string etc\n",
    "# List of Equipment\n",
    "refineryEquipment = [\"Crude Distillation Unit\", \"Catalytic Cracking Unit\", \"Hydrotreating Unit\", \"FCC Unit\"]\n",
    "\n",
    " \n",
    "\n",
    "# Membership Operator\n",
    "IsUnitInstalled = \"Hydrotreating Unit\" in refineryEquipment\n",
    "IsUnitObsolete = \"Thermal Cracking Unit\" not in refineryEquipment\n",
    "\n",
    " \n",
    "\n",
    "print(\"Is Hydrotreating Unit installed?\", IsUnitInstalled)\n",
    "print(\"Is Thermal Cracking Unit obsolete?\", IsUnitObsolete)"
   ]
  },
  {
   "cell_type": "code",
   "execution_count": 64,
   "id": "7290ad82",
   "metadata": {},
   "outputs": [
    {
     "data": {
      "text/plain": [
       "'John Doe, Senior Geologist, Geology, johndoe@email.com, 123-456-7890'"
      ]
     },
     "execution_count": 64,
     "metadata": {},
     "output_type": "execute_result"
    }
   ],
   "source": [
    "employees = [\n",
    "    \"John Doe, Senior Geologist, Geology, johndoe@email.com, 123-456-7890\",\n",
    "    \"Jane Smith, Drilling Engineer, Drilling, janesmith@email.com, 987-654-3210\",\n",
    "    \"Bob Johnson, Reservoir Engineer, Reservoir Engineering, bobjohnson@email.com, 456-789-0123\",\n",
    "    \"Alice Brown, Petrophysicist, Petrophysics, alicebrown@email.com, 789-012-3456\"\n",
    "]\n",
    "employees[0]"
   ]
  },
  {
   "cell_type": "code",
   "execution_count": 65,
   "id": "4f01d755",
   "metadata": {},
   "outputs": [],
   "source": [
    "new_employee = \"Eva Green, Drilling Technician, Drilling, evagreen@email.com, 111-222-3333\"\n",
    "employees.append(new_employee)"
   ]
  },
  {
   "cell_type": "code",
   "execution_count": 66,
   "id": "d2efa754",
   "metadata": {},
   "outputs": [
    {
     "name": "stdout",
     "output_type": "stream",
     "text": [
      "['John Doe, Senior Geologist, Geology, johndoe@email.com, 123-456-7890', 'Jane Smith, Drilling Engineer, Drilling, janesmith@email.com, 987-654-3210', 'Bob Johnson, Reservoir Engineer, Reservoir Engineering, bobjohnson@email.com, 456-789-0123', 'Alice Brown, Petrophysicist, Petrophysics, alicebrown@email.com, 789-012-3456', 'Eva Green, Drilling Technician, Drilling, evagreen@email.com, 111-222-3333']\n"
     ]
    }
   ],
   "source": [
    "print(employees)"
   ]
  },
  {
   "cell_type": "code",
   "execution_count": 68,
   "id": "e65499a6",
   "metadata": {},
   "outputs": [
    {
     "name": "stdout",
     "output_type": "stream",
     "text": [
      "can vote\n"
     ]
    }
   ],
   "source": [
    "age=20\n",
    "if(age>18):\n",
    "    print(\"can vote\")\n",
    "else:\n",
    "    print(\"can't soorrryy\")"
   ]
  },
  {
   "cell_type": "code",
   "execution_count": 72,
   "id": "8d94b707",
   "metadata": {},
   "outputs": [
    {
     "name": "stdout",
     "output_type": "stream",
     "text": [
      "enter current_fuel_level100\n"
     ]
    }
   ],
   "source": [
    "low_fuel_threshold = 1000\n",
    "crtical_fuel_threshold = 500\n",
    "current_fuel_level = int(input(\"enter current_fuel_level\"))"
   ]
  },
  {
   "cell_type": "code",
   "execution_count": 73,
   "id": "98bd5d3c",
   "metadata": {},
   "outputs": [
    {
     "data": {
      "text/plain": [
       "int"
      ]
     },
     "execution_count": 73,
     "metadata": {},
     "output_type": "execute_result"
    }
   ],
   "source": [
    "type(current_fuel_level)"
   ]
  },
  {
   "cell_type": "code",
   "execution_count": 74,
   "id": "fff82fad",
   "metadata": {},
   "outputs": [
    {
     "name": "stdout",
     "output_type": "stream",
     "text": [
      "Critical fuel level reached. Take immediate action\n",
      "Add fuel900\n"
     ]
    }
   ],
   "source": [
    "if(current_fuel_level < crtical_fuel_threshold):\n",
    "    print(\"Critical fuel level reached. Take immediate action\")\n",
    "    more_fuel = int(input(\"Add fuel\"))\n",
    "    current_fuel_level = more_fuel+current_fuel_level\n",
    "elif(current_fuel_level<low_fuel_threshold):\n",
    "    print(\"Low Fuel alert!!!\")\n",
    "else: \n",
    "    print(\"continue fueling\")"
   ]
  },
  {
   "cell_type": "code",
   "execution_count": 75,
   "id": "584ae1f1",
   "metadata": {},
   "outputs": [
    {
     "data": {
      "text/plain": [
       "range(0, 9)"
      ]
     },
     "execution_count": 75,
     "metadata": {},
     "output_type": "execute_result"
    }
   ],
   "source": [
    "range(9)"
   ]
  },
  {
   "cell_type": "code",
   "execution_count": 76,
   "id": "067863b8",
   "metadata": {},
   "outputs": [
    {
     "name": "stdout",
     "output_type": "stream",
     "text": [
      "0\n",
      "1\n",
      "2\n",
      "3\n",
      "4\n",
      "5\n",
      "6\n",
      "7\n",
      "8\n",
      "9\n"
     ]
    }
   ],
   "source": [
    "for i in range(0,10):\n",
    "    print(i)"
   ]
  },
  {
   "cell_type": "code",
   "execution_count": 77,
   "id": "cfe6e16b",
   "metadata": {},
   "outputs": [
    {
     "data": {
      "text/plain": [
       "range(2, 22, 2)"
      ]
     },
     "execution_count": 77,
     "metadata": {},
     "output_type": "execute_result"
    }
   ],
   "source": [
    "range(10)\n",
    "range(5,10)\n",
    "range(2,22,2)"
   ]
  },
  {
   "cell_type": "code",
   "execution_count": 78,
   "id": "409f8ffe",
   "metadata": {},
   "outputs": [
    {
     "name": "stdout",
     "output_type": "stream",
     "text": [
      "2\n",
      "4\n",
      "6\n",
      "8\n",
      "10\n",
      "12\n",
      "14\n",
      "16\n",
      "18\n",
      "20\n"
     ]
    }
   ],
   "source": [
    "#table of 2\n",
    "for i in range(2,21,2):\n",
    "    print(i)"
   ]
  },
  {
   "cell_type": "code",
   "execution_count": 79,
   "id": "4efdef55",
   "metadata": {},
   "outputs": [
    {
     "name": "stdout",
     "output_type": "stream",
     "text": [
      "<zip object at 0x7fb0ad8a4a80>\n"
     ]
    }
   ],
   "source": [
    "l1=['a','b','c']\n",
    "l2=['sales','it','finance']\n",
    "l=zip(l1,l2)\n",
    "print(l)"
   ]
  },
  {
   "cell_type": "code",
   "execution_count": 80,
   "id": "144110b9",
   "metadata": {},
   "outputs": [
    {
     "name": "stdout",
     "output_type": "stream",
     "text": [
      "[('a', 'sales'), ('b', 'it'), ('c', 'finance')]\n"
     ]
    }
   ],
   "source": [
    "l=list(zip(l1,l2))\n",
    "print(l)"
   ]
  },
  {
   "cell_type": "code",
   "execution_count": 83,
   "id": "1ce9aad8",
   "metadata": {},
   "outputs": [],
   "source": [
    "oil_gas_data = [\n",
    "    (\"Field A\", \"Texas\", 500000),\n",
    "    (\"Field B\", \"Alaska\", 800000),\n",
    "    (\"Field C\", \"North Sea\", 300000),\n",
    "    (\"Field D\", \"Gulf of Mexico\", 600000),\n",
    "]\n",
    "# use zip() to group the information of each oil and gas field together:\n",
    "field_name,location,reserves = zip(*oil_gas_data)"
   ]
  },
  {
   "cell_type": "code",
   "execution_count": 85,
   "id": "a62c9a13",
   "metadata": {},
   "outputs": [
    {
     "name": "stdout",
     "output_type": "stream",
     "text": [
      "('Field A', 'Field B', 'Field C', 'Field D')\n",
      "('Texas', 'Alaska', 'North Sea', 'Gulf of Mexico')\n",
      "(500000, 800000, 300000, 600000)\n"
     ]
    }
   ],
   "source": [
    "print(field_name)\n",
    "print(location)\n",
    "print(reserves)"
   ]
  },
  {
   "cell_type": "code",
   "execution_count": 87,
   "id": "404e3db6",
   "metadata": {},
   "outputs": [
    {
     "name": "stdout",
     "output_type": "stream",
     "text": [
      "[(0, 'Texas'), (1, 'Alaska'), (2, 'North Sea'), (3, 'Gulf of Mexico')]\n",
      "[(0, 'Field A'), (1, 'Field B'), (2, 'Field C'), (3, 'Field D')]\n"
     ]
    }
   ],
   "source": [
    "#to add index in field suppose we will use an enumerate function\n",
    "e = list(enumerate(location))\n",
    "f = list(enumerate(field_name))\n",
    "print(e)\n",
    "print(f)"
   ]
  },
  {
   "cell_type": "code",
   "execution_count": 88,
   "id": "a9a4e43c",
   "metadata": {},
   "outputs": [
    {
     "name": "stdout",
     "output_type": "stream",
     "text": [
      "Field 1: Field A is located in Texas with reserves of 500000 barrels.\n",
      "Field 2: Field B is located in Alaska with reserves of 800000 barrels.\n",
      "Field 3: Field C is located in North Sea with reserves of 300000 barrels.\n",
      "Field 4: Field D is located in Gulf of Mexico with reserves of 600000 barrels.\n"
     ]
    }
   ],
   "source": [
    "for index, field_data in enumerate(oil_gas_data):\n",
    "    field_name, location, reserve = field_data\n",
    "    print(f\"Field {index+1}: {field_name} is located in {location} with reserves of {reserve} barrels.\")"
   ]
  },
  {
   "cell_type": "code",
   "execution_count": 89,
   "id": "38f9f23d",
   "metadata": {},
   "outputs": [
    {
     "name": "stdout",
     "output_type": "stream",
     "text": [
      "Gulf of Mexico\n"
     ]
    }
   ],
   "source": [
    "print(location)"
   ]
  },
  {
   "cell_type": "code",
   "execution_count": 90,
   "id": "24d2328c",
   "metadata": {},
   "outputs": [
    {
     "name": "stdout",
     "output_type": "stream",
     "text": [
      "(500000, 800000, 300000, 600000)\n"
     ]
    }
   ],
   "source": [
    "print(reserves)"
   ]
  },
  {
   "cell_type": "code",
   "execution_count": 94,
   "id": "01494e40",
   "metadata": {},
   "outputs": [
    {
     "name": "stdout",
     "output_type": "stream",
     "text": [
      "Counter({500000: 1, 800000: 1, 300000: 1, 600000: 1})\n"
     ]
    }
   ],
   "source": [
    "from collections import Counter\n",
    "count_reserves = Counter(reserves)\n",
    "print(count_reserves)"
   ]
  },
  {
   "cell_type": "code",
   "execution_count": null,
   "id": "002a689a",
   "metadata": {},
   "outputs": [],
   "source": []
  }
 ],
 "metadata": {
  "kernelspec": {
   "display_name": "Python 3 (ipykernel)",
   "language": "python",
   "name": "python3"
  },
  "language_info": {
   "codemirror_mode": {
    "name": "ipython",
    "version": 3
   },
   "file_extension": ".py",
   "mimetype": "text/x-python",
   "name": "python",
   "nbconvert_exporter": "python",
   "pygments_lexer": "ipython3",
   "version": "3.11.4"
  }
 },
 "nbformat": 4,
 "nbformat_minor": 5
}
