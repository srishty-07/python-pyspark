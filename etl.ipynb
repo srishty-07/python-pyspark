{
 "cells": [
  {
   "cell_type": "code",
   "execution_count": 1,
   "id": "d7fb5fab",
   "metadata": {},
   "outputs": [
    {
     "name": "stderr",
     "output_type": "stream",
     "text": [
      "Setting default log level to \"WARN\".\n",
      "To adjust logging level use sc.setLogLevel(newLevel). For SparkR, use setLogLevel(newLevel).\n",
      "23/09/22 06:17:51 WARN NativeCodeLoader: Unable to load native-hadoop library for your platform... using builtin-java classes where applicable\n",
      "23/09/22 06:17:53 WARN Utils: Service 'SparkUI' could not bind on port 4040. Attempting port 4041.\n",
      "23/09/22 06:17:53 WARN Utils: Service 'SparkUI' could not bind on port 4041. Attempting port 4042.\n"
     ]
    }
   ],
   "source": [
    "import findspark\n",
    "findspark.init()\n",
    "from pyspark.sql import SparkSession\n",
    "spark = SparkSession.builder.appName(\"exapmle\").getOrCreate()\n",
    "from pyspark.sql.functions import *\n",
    "from pyspark.sql.types import *"
   ]
  },
  {
   "cell_type": "code",
   "execution_count": 4,
   "id": "bf547861",
   "metadata": {},
   "outputs": [],
   "source": [
    "# df = spark.read.json('/home/labuser/Downloads/pixstop.json')\n",
    "# in this json format we have multiline so we have to give option as multiline\n",
    "df = spark.read.option(\"multiline\",True).json('/home/labuser/Downloads/pixstop.json')"
   ]
  },
  {
   "cell_type": "code",
   "execution_count": 5,
   "id": "00fb8351",
   "metadata": {},
   "outputs": [
    {
     "name": "stdout",
     "output_type": "stream",
     "text": [
      "+--------+--------+---+------------+------+----+--------+\n",
      "|driverId|duration|lap|milliseconds|raceId|stop|    time|\n",
      "+--------+--------+---+------------+------+----+--------+\n",
      "|     153|  26.898|  1|       26898|   841|   1|17:05:23|\n",
      "|      30|  25.021|  1|       25021|   841|   1|17:05:52|\n",
      "|      17|  23.426| 11|       23426|   841|   1|17:20:48|\n",
      "|       4|  23.251| 12|       23251|   841|   1|17:22:34|\n",
      "|      13|  23.842| 13|       23842|   841|   1|17:24:10|\n",
      "|      22|  23.643| 13|       23643|   841|   1|17:24:29|\n",
      "|      20|  22.603| 14|       22603|   841|   1|17:25:17|\n",
      "|     814|  24.863| 14|       24863|   841|   1|17:26:03|\n",
      "|     816|  25.259| 14|       25259|   841|   1|17:26:50|\n",
      "|      67|  25.342| 15|       25342|   841|   1|17:27:34|\n",
      "|       2|  22.994| 15|       22994|   841|   1|17:27:41|\n",
      "|       1|  23.227| 16|       23227|   841|   1|17:28:24|\n",
      "|     808|  24.535| 16|       24535|   841|   1|17:28:39|\n",
      "|       3|  23.716| 16|       23716|   841|   1|17:29:00|\n",
      "|     155|  24.064| 16|       24064|   841|   1|17:29:06|\n",
      "|      16|  25.978| 16|       25978|   841|   1|17:29:08|\n",
      "|      15|  24.899| 16|       24899|   841|   1|17:29:49|\n",
      "|      18|  16.867| 17|       16867|   841|   1|17:30:24|\n",
      "|     153|  24.463| 17|       24463|   841|   2|17:31:06|\n",
      "|       5|  24.865| 17|       24865|   841|   1|17:31:11|\n",
      "+--------+--------+---+------------+------+----+--------+\n",
      "only showing top 20 rows\n",
      "\n"
     ]
    }
   ],
   "source": [
    "df.show()"
   ]
  },
  {
   "cell_type": "code",
   "execution_count": 20,
   "id": "7c6dbab1",
   "metadata": {},
   "outputs": [
    {
     "name": "stdout",
     "output_type": "stream",
     "text": [
      "+--------+--------+---+------------+------+----+--------+\n",
      "|driverId|duration|lap|milliseconds|raceId|stop|    time|\n",
      "+--------+--------+---+------------+------+----+--------+\n",
      "|       1|  23.227| 16|       23227|   841|   1|17:28:24|\n",
      "|       1|  23.199| 36|       23199|   841|   2|17:59:29|\n",
      "|       2|  22.994| 15|       22994|   841|   1|17:27:41|\n",
      "|       2|  25.098| 30|       25098|   841|   2|17:51:32|\n",
      "|       3|  23.716| 16|       23716|   841|   1|17:29:00|\n",
      "|       4|  23.251| 12|       23251|   841|   1|17:22:34|\n",
      "|       4|  24.733| 27|       24733|   841|   2|17:46:04|\n",
      "|       5|  24.865| 17|       24865|   841|   1|17:31:11|\n",
      "|      10|  23.792| 18|       23792|   841|   1|17:33:02|\n",
      "|      13|  23.842| 13|       23842|   841|   1|17:24:10|\n",
      "|      13|    24.5| 31|       24500|   841|   2|17:52:28|\n",
      "|      15|  24.899| 16|       24899|   841|   1|17:29:49|\n",
      "|      15|  24.848| 37|       24848|   841|   2|18:03:55|\n",
      "|      16|  25.978| 16|       25978|   841|   1|17:29:08|\n",
      "|      16|  23.871| 37|       23871|   841|   2|18:02:15|\n",
      "|      17|  23.426| 11|       23426|   841|   1|17:20:48|\n",
      "|      17|   22.52| 26|       22520|   841|   2|17:44:29|\n",
      "|      18|  16.867| 17|       16867|   841|   1|17:30:24|\n",
      "|      18|  23.303| 19|       23303|   841|   2|17:33:53|\n",
      "|      18|  22.681| 37|       22681|   841|   3|18:01:49|\n",
      "+--------+--------+---+------------+------+----+--------+\n",
      "only showing top 20 rows\n",
      "\n"
     ]
    }
   ],
   "source": [
    "df_final = df.sort([\"driverId\"])\n",
    "df_final.show()"
   ]
  },
  {
   "cell_type": "code",
   "execution_count": 21,
   "id": "00f3c53f",
   "metadata": {},
   "outputs": [
    {
     "data": {
      "text/plain": [
       "40"
      ]
     },
     "execution_count": 21,
     "metadata": {},
     "output_type": "execute_result"
    }
   ],
   "source": [
    "df_final.count()"
   ]
  },
  {
   "cell_type": "code",
   "execution_count": 22,
   "id": "2188597b",
   "metadata": {},
   "outputs": [
    {
     "name": "stdout",
     "output_type": "stream",
     "text": [
      "+----+-----+\n",
      "|stop|count|\n",
      "+----+-----+\n",
      "|   1|   21|\n",
      "|   2|   16|\n",
      "|   3|    3|\n",
      "+----+-----+\n",
      "\n"
     ]
    }
   ],
   "source": [
    "df_stops = df_final.groupBy(\"stop\").count().sort(\"stop\")\n",
    "df_stops.show()"
   ]
  },
  {
   "cell_type": "code",
   "execution_count": 23,
   "id": "d9bbe451",
   "metadata": {},
   "outputs": [
    {
     "name": "stderr",
     "output_type": "stream",
     "text": [
      "                                                                                \r"
     ]
    }
   ],
   "source": [
    "df_final.write.mode(\"overwrite\").option(\"path\",\"/home/labuser/Downloads/pitstop/\").saveAsTable(\"pitstopTable\")"
   ]
  },
  {
   "cell_type": "code",
   "execution_count": 26,
   "id": "cb8b4a01",
   "metadata": {},
   "outputs": [],
   "source": [
    "read_data = spark.read.parquet(\"/home/labuser/Downloads/pitstop\")"
   ]
  },
  {
   "cell_type": "code",
   "execution_count": 27,
   "id": "797b780e",
   "metadata": {},
   "outputs": [
    {
     "name": "stdout",
     "output_type": "stream",
     "text": [
      "+--------+--------+---+------------+------+----+--------+\n",
      "|driverId|duration|lap|milliseconds|raceId|stop|    time|\n",
      "+--------+--------+---+------------+------+----+--------+\n",
      "|       1|  23.227| 16|       23227|   841|   1|17:28:24|\n",
      "|       1|  23.199| 36|       23199|   841|   2|17:59:29|\n",
      "|       2|  22.994| 15|       22994|   841|   1|17:27:41|\n",
      "|       2|  25.098| 30|       25098|   841|   2|17:51:32|\n",
      "|       3|  23.716| 16|       23716|   841|   1|17:29:00|\n",
      "|       4|  23.251| 12|       23251|   841|   1|17:22:34|\n",
      "|       4|  24.733| 27|       24733|   841|   2|17:46:04|\n",
      "|       5|  24.865| 17|       24865|   841|   1|17:31:11|\n",
      "|      10|  23.792| 18|       23792|   841|   1|17:33:02|\n",
      "|      13|  23.842| 13|       23842|   841|   1|17:24:10|\n",
      "|      13|    24.5| 31|       24500|   841|   2|17:52:28|\n",
      "|      15|  24.899| 16|       24899|   841|   1|17:29:49|\n",
      "|      15|  24.848| 37|       24848|   841|   2|18:03:55|\n",
      "|      16|  25.978| 16|       25978|   841|   1|17:29:08|\n",
      "|      16|  23.871| 37|       23871|   841|   2|18:02:15|\n",
      "|      17|  23.426| 11|       23426|   841|   1|17:20:48|\n",
      "|      17|   22.52| 26|       22520|   841|   2|17:44:29|\n",
      "|      18|  16.867| 17|       16867|   841|   1|17:30:24|\n",
      "|      18|  23.303| 19|       23303|   841|   2|17:33:53|\n",
      "|      18|  22.681| 37|       22681|   841|   3|18:01:49|\n",
      "+--------+--------+---+------------+------+----+--------+\n",
      "only showing top 20 rows\n",
      "\n"
     ]
    }
   ],
   "source": [
    "read_data.show()"
   ]
  },
  {
   "cell_type": "code",
   "execution_count": null,
   "id": "493e8224",
   "metadata": {},
   "outputs": [],
   "source": []
  }
 ],
 "metadata": {
  "kernelspec": {
   "display_name": "Python 3 (ipykernel)",
   "language": "python",
   "name": "python3"
  },
  "language_info": {
   "codemirror_mode": {
    "name": "ipython",
    "version": 3
   },
   "file_extension": ".py",
   "mimetype": "text/x-python",
   "name": "python",
   "nbconvert_exporter": "python",
   "pygments_lexer": "ipython3",
   "version": "3.11.4"
  }
 },
 "nbformat": 4,
 "nbformat_minor": 5
}
