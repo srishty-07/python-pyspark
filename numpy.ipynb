{
 "cells": [
  {
   "cell_type": "code",
   "execution_count": 2,
   "id": "19a3d7d2",
   "metadata": {},
   "outputs": [],
   "source": [
    "#numpy works on HOMOGENOUS data\n",
    "import numpy as np"
   ]
  },
  {
   "cell_type": "code",
   "execution_count": 3,
   "id": "091b32e5",
   "metadata": {},
   "outputs": [
    {
     "data": {
      "text/plain": [
       "array([ 2,  7, 10, 13, 26])"
      ]
     },
     "execution_count": 3,
     "metadata": {},
     "output_type": "execute_result"
    }
   ],
   "source": [
    "arr=np.array([2,7,10,13,26])\n",
    "arr"
   ]
  },
  {
   "cell_type": "code",
   "execution_count": 4,
   "id": "fe44f39f",
   "metadata": {},
   "outputs": [
    {
     "data": {
      "text/plain": [
       "array([[ 2,  7, 10],\n",
       "       [10, 13, 26]])"
      ]
     },
     "execution_count": 4,
     "metadata": {},
     "output_type": "execute_result"
    }
   ],
   "source": [
    "arr2 = np.array([[2,7,10],[10,13,26]])\n",
    "arr2"
   ]
  },
  {
   "cell_type": "code",
   "execution_count": 5,
   "id": "8c9fa29d",
   "metadata": {},
   "outputs": [
    {
     "data": {
      "text/plain": [
       "1"
      ]
     },
     "execution_count": 5,
     "metadata": {},
     "output_type": "execute_result"
    }
   ],
   "source": [
    "arr.ndim\n",
    "#to check tghe dimension of that aray"
   ]
  },
  {
   "cell_type": "code",
   "execution_count": 6,
   "id": "d2418dfd",
   "metadata": {},
   "outputs": [
    {
     "data": {
      "text/plain": [
       "2"
      ]
     },
     "execution_count": 6,
     "metadata": {},
     "output_type": "execute_result"
    }
   ],
   "source": [
    "arr2.ndim"
   ]
  },
  {
   "cell_type": "code",
   "execution_count": 7,
   "id": "49f02afc",
   "metadata": {},
   "outputs": [],
   "source": [
    "arr3 = np.array([[[1,2,3]],[[1,2,3]],[[4,9,0]]])"
   ]
  },
  {
   "cell_type": "code",
   "execution_count": 8,
   "id": "24c58ee7",
   "metadata": {},
   "outputs": [
    {
     "data": {
      "text/plain": [
       "3"
      ]
     },
     "execution_count": 8,
     "metadata": {},
     "output_type": "execute_result"
    }
   ],
   "source": [
    "arr3\n",
    "arr3.ndim"
   ]
  },
  {
   "cell_type": "code",
   "execution_count": 9,
   "id": "7275f3c9",
   "metadata": {},
   "outputs": [
    {
     "data": {
      "text/plain": [
       "array([[[1, 2, 3]],\n",
       "\n",
       "       [[1, 2, 3]],\n",
       "\n",
       "       [[4, 9, 0]]])"
      ]
     },
     "execution_count": 9,
     "metadata": {},
     "output_type": "execute_result"
    }
   ],
   "source": [
    "arr3"
   ]
  },
  {
   "cell_type": "code",
   "execution_count": 10,
   "id": "fc4c3f98",
   "metadata": {},
   "outputs": [],
   "source": [
    "new_arr3 = np.array([[[178, 189, 567], [145, 239, 445], [197, 345, 678]],\n",
    "                [[56, 78, 190], [46, 10, 11], [6, 2, 1]],\n",
    "                [[45, 118, 203], [72, 119, 34], [87, 9, 5]]])"
   ]
  },
  {
   "cell_type": "code",
   "execution_count": 11,
   "id": "7d60a5cc",
   "metadata": {},
   "outputs": [
    {
     "data": {
      "text/plain": [
       "array([[[178, 189, 567],\n",
       "        [145, 239, 445],\n",
       "        [197, 345, 678]],\n",
       "\n",
       "       [[ 56,  78, 190],\n",
       "        [ 46,  10,  11],\n",
       "        [  6,   2,   1]],\n",
       "\n",
       "       [[ 45, 118, 203],\n",
       "        [ 72, 119,  34],\n",
       "        [ 87,   9,   5]]])"
      ]
     },
     "execution_count": 11,
     "metadata": {},
     "output_type": "execute_result"
    }
   ],
   "source": [
    "new_arr3"
   ]
  },
  {
   "cell_type": "code",
   "execution_count": 12,
   "id": "67008030",
   "metadata": {},
   "outputs": [
    {
     "data": {
      "text/plain": [
       "3"
      ]
     },
     "execution_count": 12,
     "metadata": {},
     "output_type": "execute_result"
    }
   ],
   "source": [
    "new_arr3.ndim"
   ]
  },
  {
   "cell_type": "code",
   "execution_count": 13,
   "id": "fa17daa4",
   "metadata": {},
   "outputs": [
    {
     "data": {
      "text/plain": [
       "array([[ 2,  7, 10],\n",
       "       [10, 13, 26]])"
      ]
     },
     "execution_count": 13,
     "metadata": {},
     "output_type": "execute_result"
    }
   ],
   "source": [
    "arr2"
   ]
  },
  {
   "cell_type": "code",
   "execution_count": 14,
   "id": "a569ff46",
   "metadata": {},
   "outputs": [
    {
     "data": {
      "text/plain": [
       "10"
      ]
     },
     "execution_count": 14,
     "metadata": {},
     "output_type": "execute_result"
    }
   ],
   "source": [
    "#slicing on 2d & 3d array\n",
    "#indexing\n",
    "arr2[0,2]"
   ]
  },
  {
   "cell_type": "code",
   "execution_count": 15,
   "id": "2d7f15de",
   "metadata": {},
   "outputs": [
    {
     "data": {
      "text/plain": [
       "array([10, 13])"
      ]
     },
     "execution_count": 15,
     "metadata": {},
     "output_type": "execute_result"
    }
   ],
   "source": [
    "#slicing\n",
    "arr2[1,0:2]"
   ]
  },
  {
   "cell_type": "code",
   "execution_count": 16,
   "id": "6f9c21a5",
   "metadata": {},
   "outputs": [],
   "source": [
    "arr3=np.array([[[1,23,33],[2,22,54],[5,6,8]],[[10,20,30],[25,22,55],[50,60,80]]])"
   ]
  },
  {
   "cell_type": "code",
   "execution_count": 17,
   "id": "c9e82635",
   "metadata": {},
   "outputs": [
    {
     "data": {
      "text/plain": [
       "array([[[ 1, 23, 33],\n",
       "        [ 2, 22, 54],\n",
       "        [ 5,  6,  8]],\n",
       "\n",
       "       [[10, 20, 30],\n",
       "        [25, 22, 55],\n",
       "        [50, 60, 80]]])"
      ]
     },
     "execution_count": 17,
     "metadata": {},
     "output_type": "execute_result"
    }
   ],
   "source": [
    "#indexing on 3d array\n",
    "arr3"
   ]
  },
  {
   "cell_type": "code",
   "execution_count": 18,
   "id": "8321fe9b",
   "metadata": {},
   "outputs": [
    {
     "data": {
      "text/plain": [
       "50"
      ]
     },
     "execution_count": 18,
     "metadata": {},
     "output_type": "execute_result"
    }
   ],
   "source": [
    "arr3[1,2,0]\n",
    "# matrix,row,column"
   ]
  },
  {
   "cell_type": "code",
   "execution_count": 19,
   "id": "38fcb730",
   "metadata": {},
   "outputs": [
    {
     "data": {
      "text/plain": [
       "array([50, 60, 80])"
      ]
     },
     "execution_count": 19,
     "metadata": {},
     "output_type": "execute_result"
    }
   ],
   "source": [
    "arr3[1,2,0:3]"
   ]
  },
  {
   "cell_type": "code",
   "execution_count": 20,
   "id": "93561882",
   "metadata": {},
   "outputs": [
    {
     "data": {
      "text/plain": [
       "54"
      ]
     },
     "execution_count": 20,
     "metadata": {},
     "output_type": "execute_result"
    }
   ],
   "source": [
    "arr3[0,1,2]"
   ]
  },
  {
   "cell_type": "code",
   "execution_count": 21,
   "id": "eb9e9f47",
   "metadata": {},
   "outputs": [
    {
     "data": {
      "text/plain": [
       "array([22, 55])"
      ]
     },
     "execution_count": 21,
     "metadata": {},
     "output_type": "execute_result"
    }
   ],
   "source": [
    "arr3[1,1,1:3]"
   ]
  },
  {
   "cell_type": "code",
   "execution_count": 25,
   "id": "91ed81d5",
   "metadata": {},
   "outputs": [],
   "source": [
    "temperature_data = [25.3, 26.1, 24.8, 23.5, 27.2]\n",
    "pressure_data = [101.2, 100.8, 101.5, 100.2, 101.0]\n",
    "humidity_data = [55.2, 54.8, 56.5, 53.7, 55.9]"
   ]
  },
  {
   "cell_type": "code",
   "execution_count": 26,
   "id": "7ef2a73e",
   "metadata": {},
   "outputs": [],
   "source": [
    "#create a numpy array from the dataset\n",
    "temperature_array = np.array(temperature_data)\n",
    "pressure_array = np.array(pressure_data)\n",
    "humidity_array = np.array(humidity_data)"
   ]
  },
  {
   "cell_type": "code",
   "execution_count": 27,
   "id": "6b660c5b",
   "metadata": {},
   "outputs": [],
   "source": [
    "#calculte the mean(avg) of each activity\n",
    "t_mean = np.mean(temperature_array)\n",
    "p_mean = np.mean(pressure_array)\n",
    "h_mean = np.mean(humidity_array)"
   ]
  },
  {
   "cell_type": "code",
   "execution_count": 28,
   "id": "6461da5e",
   "metadata": {},
   "outputs": [],
   "source": [
    "#calculate the standard deviation of each quantity\n",
    "t_sd = np.std(temperature_array)\n",
    "p_sd = np.std(pressure_array)\n",
    "h_sd = np.std(humidity_array)"
   ]
  },
  {
   "cell_type": "code",
   "execution_count": 31,
   "id": "2737dbef",
   "metadata": {},
   "outputs": [
    {
     "data": {
      "text/plain": [
       "1.2416118556135003"
      ]
     },
     "execution_count": 31,
     "metadata": {},
     "output_type": "execute_result"
    }
   ],
   "source": [
    "t_sd"
   ]
  },
  {
   "cell_type": "code",
   "execution_count": 32,
   "id": "2f76329e",
   "metadata": {},
   "outputs": [],
   "source": [
    "t_max = np.amax(temperature_array)\n",
    "p_max = np.amax(pressure_array)\n",
    "h_max = np.amax(humidity_array)\n",
    "t_min = np.amin(temperature_array)\n",
    "p_min = np.amin(pressure_array)\n",
    "h_min = np.amin(humidity_array)"
   ]
  },
  {
   "cell_type": "code",
   "execution_count": 33,
   "id": "dc29d431",
   "metadata": {},
   "outputs": [
    {
     "name": "stdout",
     "output_type": "stream",
     "text": [
      "27.2 23.5\n"
     ]
    }
   ],
   "source": [
    "print(t_max,t_min)"
   ]
  },
  {
   "cell_type": "code",
   "execution_count": null,
   "id": "0e8e3cc2",
   "metadata": {},
   "outputs": [],
   "source": []
  }
 ],
 "metadata": {
  "kernelspec": {
   "display_name": "Python 3 (ipykernel)",
   "language": "python",
   "name": "python3"
  },
  "language_info": {
   "codemirror_mode": {
    "name": "ipython",
    "version": 3
   },
   "file_extension": ".py",
   "mimetype": "text/x-python",
   "name": "python",
   "nbconvert_exporter": "python",
   "pygments_lexer": "ipython3",
   "version": "3.11.4"
  }
 },
 "nbformat": 4,
 "nbformat_minor": 5
}
