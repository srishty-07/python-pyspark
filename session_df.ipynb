{
 "cells": [
  {
   "cell_type": "code",
   "execution_count": 1,
   "id": "6de15b96",
   "metadata": {},
   "outputs": [],
   "source": [
    "import findspark"
   ]
  },
  {
   "cell_type": "code",
   "execution_count": 2,
   "id": "d730a7fe",
   "metadata": {},
   "outputs": [],
   "source": [
    "findspark.init()"
   ]
  },
  {
   "cell_type": "code",
   "execution_count": 3,
   "id": "03c729c2",
   "metadata": {},
   "outputs": [
    {
     "name": "stderr",
     "output_type": "stream",
     "text": [
      "Setting default log level to \"WARN\".\n",
      "To adjust logging level use sc.setLogLevel(newLevel). For SparkR, use setLogLevel(newLevel).\n",
      "23/09/21 08:35:56 WARN NativeCodeLoader: Unable to load native-hadoop library for your platform... using builtin-java classes where applicable\n",
      "23/09/21 08:35:58 WARN Utils: Service 'SparkUI' could not bind on port 4040. Attempting port 4041.\n"
     ]
    }
   ],
   "source": [
    "from pyspark.sql import SparkSession\n",
    "\n",
    "#create a spark session\n",
    "spark=SparkSession.builder.appName(\"RDDExample\").getOrCreate()"
   ]
  },
  {
   "cell_type": "code",
   "execution_count": 6,
   "id": "1999b72f",
   "metadata": {},
   "outputs": [],
   "source": [
    "# creating dataframe\n",
    "df = spark.createDataFrame([(10,7,3)])"
   ]
  },
  {
   "cell_type": "code",
   "execution_count": 7,
   "id": "01d37edc",
   "metadata": {},
   "outputs": [
    {
     "name": "stdout",
     "output_type": "stream",
     "text": [
      "+---+---+---+\n",
      "| _1| _2| _3|\n",
      "+---+---+---+\n",
      "| 10|  7|  3|\n",
      "+---+---+---+\n",
      "\n"
     ]
    }
   ],
   "source": [
    "df.show()"
   ]
  },
  {
   "cell_type": "code",
   "execution_count": 8,
   "id": "2ac30bc7",
   "metadata": {},
   "outputs": [
    {
     "data": {
      "text/plain": [
       "DataFrame[a: bigint, b: double, c: string, d: date, e: timestamp]"
      ]
     },
     "execution_count": 8,
     "metadata": {},
     "output_type": "execute_result"
    }
   ],
   "source": [
    "from datetime import datetime, date\n",
    "import pandas as pd\n",
    "from pyspark.sql import Row\n",
    "\n",
    "df = spark.createDataFrame([\n",
    "    Row(a=1, b=2., c='string1', d=date(2000, 1, 1), e=datetime(2000, 1, 1, 12, 0)),\n",
    "    Row(a=2, b=3., c='string2', d=date(2000, 2, 1), e=datetime(2000, 1, 2, 12, 0)),\n",
    "    Row(a=4, b=5., c='string3', d=date(2000, 3, 1), e=datetime(2000, 1, 3, 12, 0))\n",
    "])\n",
    "df"
   ]
  },
  {
   "cell_type": "code",
   "execution_count": 9,
   "id": "3ee0e08a",
   "metadata": {},
   "outputs": [
    {
     "name": "stdout",
     "output_type": "stream",
     "text": [
      "+---+---+-------+----------+-------------------+\n",
      "|  a|  b|      c|         d|                  e|\n",
      "+---+---+-------+----------+-------------------+\n",
      "|  1|2.0|string1|2000-01-01|2000-01-01 12:00:00|\n",
      "|  2|3.0|string2|2000-02-01|2000-01-02 12:00:00|\n",
      "|  4|5.0|string3|2000-03-01|2000-01-03 12:00:00|\n",
      "+---+---+-------+----------+-------------------+\n",
      "\n"
     ]
    }
   ],
   "source": [
    "df.show()"
   ]
  },
  {
   "cell_type": "code",
   "execution_count": 11,
   "id": "c1f2a74f",
   "metadata": {},
   "outputs": [],
   "source": [
    "schema='a long, b double, c string, d date, e timestamp'"
   ]
  },
  {
   "cell_type": "code",
   "execution_count": 13,
   "id": "48aacbde",
   "metadata": {},
   "outputs": [],
   "source": [
    "data = [\n",
    "    (1, 2., 'string1', date(2000, 1, 1), datetime(2000, 1, 1, 12, 0)),\n",
    "    (2, 3., 'string2', date(2000, 2, 1), datetime(2000, 1, 2, 12, 0)),\n",
    "    (3, 4., 'string3', date(2000, 3, 1), datetime(2000, 1, 3, 12, 0))    \n",
    "]"
   ]
  },
  {
   "cell_type": "code",
   "execution_count": 18,
   "id": "1c0e5e78",
   "metadata": {},
   "outputs": [],
   "source": [
    "df1 = spark.createDataFrame(data,schema)\n",
    "# it will need two paramaner data and schema(optional)(if we do not specify it, it will take it the default one) there are more parameters as well in createDataframe "
   ]
  },
  {
   "cell_type": "code",
   "execution_count": 19,
   "id": "b09486b5",
   "metadata": {},
   "outputs": [
    {
     "name": "stdout",
     "output_type": "stream",
     "text": [
      "+---+---+-------+----------+-------------------+\n",
      "|  a|  b|      c|         d|                  e|\n",
      "+---+---+-------+----------+-------------------+\n",
      "|  1|2.0|string1|2000-01-01|2000-01-01 12:00:00|\n",
      "|  2|3.0|string2|2000-02-01|2000-01-02 12:00:00|\n",
      "|  4|5.0|string3|2000-03-01|2000-01-03 12:00:00|\n",
      "+---+---+-------+----------+-------------------+\n",
      "\n"
     ]
    }
   ],
   "source": [
    "df.show()"
   ]
  },
  {
   "cell_type": "code",
   "execution_count": 20,
   "id": "abd087ab",
   "metadata": {},
   "outputs": [],
   "source": [
    "data1 = [(1,'a','z',990067,'India'),(2,'b','y',880056,'Turkey')]"
   ]
  },
  {
   "cell_type": "code",
   "execution_count": 26,
   "id": "670625dd",
   "metadata": {},
   "outputs": [],
   "source": [
    "# create schema\n",
    "#3ways: \n",
    "# list, string,pyspark sql\n",
    "# 1. string type way\n",
    "schema2 = \"id int,name string,l_name string,no int,country string\"\n",
    "#2. list \n",
    "schema_list = ['id','name','l_name','no','country']"
   ]
  },
  {
   "cell_type": "code",
   "execution_count": 27,
   "id": "8417c14e",
   "metadata": {},
   "outputs": [],
   "source": [
    "df3 = spark.createDataFrame(data1,schema2)"
   ]
  },
  {
   "cell_type": "code",
   "execution_count": 28,
   "id": "c32f21e9",
   "metadata": {},
   "outputs": [
    {
     "name": "stdout",
     "output_type": "stream",
     "text": [
      "+---+----+------+------+-------+\n",
      "| id|name|l_name|    no|country|\n",
      "+---+----+------+------+-------+\n",
      "|  1|   a|     z|990067|  India|\n",
      "|  2|   b|     y|880056| Turkey|\n",
      "+---+----+------+------+-------+\n",
      "\n"
     ]
    }
   ],
   "source": [
    "df3.show()"
   ]
  },
  {
   "cell_type": "code",
   "execution_count": 29,
   "id": "9ca0baef",
   "metadata": {},
   "outputs": [
    {
     "data": {
      "text/plain": [
       "[('id', 'int'),\n",
       " ('name', 'string'),\n",
       " ('l_name', 'string'),\n",
       " ('no', 'int'),\n",
       " ('country', 'string')]"
      ]
     },
     "execution_count": 29,
     "metadata": {},
     "output_type": "execute_result"
    }
   ],
   "source": [
    "df3.dtypes"
   ]
  },
  {
   "cell_type": "code",
   "execution_count": 32,
   "id": "b1f844d1",
   "metadata": {},
   "outputs": [
    {
     "name": "stdout",
     "output_type": "stream",
     "text": [
      "+---+----+------+------+-------+\n",
      "| id|name|l_name|    no|country|\n",
      "+---+----+------+------+-------+\n",
      "|  1|   a|     z|990067|  India|\n",
      "|  2|   b|     y|880056| Turkey|\n",
      "+---+----+------+------+-------+\n",
      "\n"
     ]
    }
   ],
   "source": [
    "df4 = spark.createDataFrame(data1,schema_list)\n",
    "df4.show()"
   ]
  },
  {
   "cell_type": "code",
   "execution_count": 31,
   "id": "323b4e42",
   "metadata": {},
   "outputs": [
    {
     "name": "stdout",
     "output_type": "stream",
     "text": [
      "root\n",
      " |-- id: long (nullable = true)\n",
      " |-- name: string (nullable = true)\n",
      " |-- l_name: string (nullable = true)\n",
      " |-- no: long (nullable = true)\n",
      " |-- country: string (nullable = true)\n",
      "\n"
     ]
    }
   ],
   "source": [
    "df4.printSchema()"
   ]
  },
  {
   "cell_type": "code",
   "execution_count": 34,
   "id": "1bb2bd36",
   "metadata": {},
   "outputs": [
    {
     "name": "stdout",
     "output_type": "stream",
     "text": [
      "+-----------+------+---+\n",
      "|amount_paid|f_name| id|\n",
      "+-----------+------+---+\n",
      "|       5000|     a|  1|\n",
      "|       6000|     b|  2|\n",
      "+-----------+------+---+\n",
      "\n"
     ]
    }
   ],
   "source": [
    "# json sample data\n",
    "users = [{\n",
    "    \"id\":1,\n",
    "    \"f_name\":\"a\",\n",
    "    \"amount_paid\":5000\n",
    "},\n",
    "{\n",
    "    \"id\":2,\n",
    "    \"f_name\":\"b\",\n",
    "    \"amount_paid\":6000\n",
    "}]\n",
    "df5 = spark.createDataFrame(users)\n",
    "df5.show()"
   ]
  },
  {
   "cell_type": "code",
   "execution_count": 58,
   "id": "f9140631",
   "metadata": {},
   "outputs": [],
   "source": [
    "ndf = spark.read.csv('/home/labuser/day3/employees.csv')"
   ]
  },
  {
   "cell_type": "code",
   "execution_count": 59,
   "id": "c10fd9df",
   "metadata": {},
   "outputs": [
    {
     "name": "stdout",
     "output_type": "stream",
     "text": [
      "+----------+------+----------+---------------+------+-------+-----------------+--------------------+\n",
      "|       _c0|   _c1|       _c2|            _c3|   _c4|    _c5|              _c6|                 _c7|\n",
      "+----------+------+----------+---------------+------+-------+-----------------+--------------------+\n",
      "|First Name|Gender|Start Date|Last Login Time|Salary|Bonus %|Senior Management|                Team|\n",
      "|   Douglas|  Male|  8/6/1993|       12:42 PM| 97308|  6.945|             true|           Marketing|\n",
      "|    Thomas|  Male| 3/31/1996|        6:53 AM| 61933|   4.17|             true|                null|\n",
      "|     Maria|Female| 4/23/1993|       11:17 AM|130590| 11.858|            false|             Finance|\n",
      "|     Jerry|  Male|  3/4/2005|        1:00 PM|138705|   9.34|             true|             Finance|\n",
      "|     Larry|  Male| 1/24/1998|        4:47 PM|101004|  1.389|             true|     Client Services|\n",
      "|    Dennis|  Male| 4/18/1987|        1:35 AM|115163| 10.125|            false|               Legal|\n",
      "|      Ruby|Female| 8/17/1987|        4:20 PM| 65476| 10.012|             true|             Product|\n",
      "|      null|Female| 7/20/2015|       10:43 AM| 45906| 11.598|             null|             Finance|\n",
      "|    Angela|Female|11/22/2005|        6:29 AM| 95570| 18.523|             true|         Engineering|\n",
      "|   Frances|Female|  8/8/2002|        6:51 AM|139852|  7.524|             true|Business Development|\n",
      "|    Louise|Female| 8/12/1980|        9:01 AM| 63241| 15.132|             true|                null|\n",
      "|     Julie|Female|10/26/1997|        3:19 PM|102508| 12.637|             true|               Legal|\n",
      "|   Brandon|  Male| 12/1/1980|        1:08 AM|112807| 17.492|             true|     Human Resources|\n",
      "|      Gary|  Male| 1/27/2008|       11:40 PM|109831|  5.831|            false|               Sales|\n",
      "|  Kimberly|Female| 1/14/1999|        7:13 AM| 41426| 14.543|             true|             Finance|\n",
      "|   Lillian|Female|  6/5/2016|        6:09 AM| 59414|  1.256|            false|             Product|\n",
      "|    Jeremy|  Male| 9/21/2010|        5:56 AM| 90370|  7.369|            false|     Human Resources|\n",
      "|     Shawn|  Male| 12/7/1986|        7:45 PM|111737|  6.414|            false|             Product|\n",
      "|     Diana|Female|10/23/1981|       10:27 AM|132940| 19.082|            false|     Client Services|\n",
      "+----------+------+----------+---------------+------+-------+-----------------+--------------------+\n",
      "only showing top 20 rows\n",
      "\n"
     ]
    }
   ],
   "source": [
    "ndf.show()"
   ]
  },
  {
   "cell_type": "code",
   "execution_count": 60,
   "id": "40ab77f8",
   "metadata": {},
   "outputs": [
    {
     "name": "stdout",
     "output_type": "stream",
     "text": [
      "root\n",
      " |-- _c0: string (nullable = true)\n",
      " |-- _c1: string (nullable = true)\n",
      " |-- _c2: string (nullable = true)\n",
      " |-- _c3: string (nullable = true)\n",
      " |-- _c4: string (nullable = true)\n",
      " |-- _c5: string (nullable = true)\n",
      " |-- _c6: string (nullable = true)\n",
      " |-- _c7: string (nullable = true)\n",
      "\n"
     ]
    }
   ],
   "source": [
    "ndf.printSchema()"
   ]
  },
  {
   "cell_type": "code",
   "execution_count": 61,
   "id": "6e4a7850",
   "metadata": {},
   "outputs": [],
   "source": [
    "df5=spark.read.option(\"header\",True).option(\"inferschema\",True).csv(\"/home/labuser/day3/employees.csv\",header=True)"
   ]
  },
  {
   "cell_type": "code",
   "execution_count": 62,
   "id": "a33dd68b",
   "metadata": {},
   "outputs": [
    {
     "name": "stdout",
     "output_type": "stream",
     "text": [
      "root\n",
      " |-- First Name: string (nullable = true)\n",
      " |-- Gender: string (nullable = true)\n",
      " |-- Start Date: string (nullable = true)\n",
      " |-- Last Login Time: string (nullable = true)\n",
      " |-- Salary: integer (nullable = true)\n",
      " |-- Bonus %: double (nullable = true)\n",
      " |-- Senior Management: boolean (nullable = true)\n",
      " |-- Team: string (nullable = true)\n",
      "\n"
     ]
    }
   ],
   "source": [
    "df5.printSchema()"
   ]
  },
  {
   "cell_type": "code",
   "execution_count": 69,
   "id": "886d02a9",
   "metadata": {},
   "outputs": [
    {
     "name": "stdout",
     "output_type": "stream",
     "text": [
      "+----------+------+\n",
      "|First Name|Gender|\n",
      "+----------+------+\n",
      "|   Douglas|  Male|\n",
      "|    Thomas|  Male|\n",
      "|     Maria|Female|\n",
      "|     Jerry|  Male|\n",
      "|     Larry|  Male|\n",
      "|    Dennis|  Male|\n",
      "|      Ruby|Female|\n",
      "|      null|Female|\n",
      "|    Angela|Female|\n",
      "|   Frances|Female|\n",
      "|    Louise|Female|\n",
      "|     Julie|Female|\n",
      "|   Brandon|  Male|\n",
      "|      Gary|  Male|\n",
      "|  Kimberly|Female|\n",
      "|   Lillian|Female|\n",
      "|    Jeremy|  Male|\n",
      "|     Shawn|  Male|\n",
      "|     Diana|Female|\n",
      "|     Donna|Female|\n",
      "+----------+------+\n",
      "only showing top 20 rows\n",
      "\n"
     ]
    }
   ],
   "source": [
    "#dataframe functions - to manipulate the dataframe\n",
    "# -camel case\n",
    "df5.select(\"First Name\",\"Gender\").show()\n",
    "#Functions - \n",
    "# for normal functions we need to import them"
   ]
  },
  {
   "cell_type": "code",
   "execution_count": 70,
   "id": "3ec24469",
   "metadata": {},
   "outputs": [
    {
     "ename": "AttributeError",
     "evalue": "'str' object has no attribute 'alias'",
     "output_type": "error",
     "traceback": [
      "\u001b[0;31m---------------------------------------------------------------------------\u001b[0m",
      "\u001b[0;31mAttributeError\u001b[0m                            Traceback (most recent call last)",
      "Cell \u001b[0;32mIn[70], line 1\u001b[0m\n\u001b[0;32m----> 1\u001b[0m df5\u001b[38;5;241m.\u001b[39mselect(\u001b[38;5;124m\"\u001b[39m\u001b[38;5;124mFirst Name\u001b[39m\u001b[38;5;124m\"\u001b[39m\u001b[38;5;241m.\u001b[39malias(\u001b[38;5;124m\"\u001b[39m\u001b[38;5;124mforename\u001b[39m\u001b[38;5;124m\"\u001b[39m))\n",
      "\u001b[0;31mAttributeError\u001b[0m: 'str' object has no attribute 'alias'"
     ]
    }
   ],
   "source": [
    "df5.select(\"First Name\".alias(\"forename\"))\n",
    "# to rename the column we tried using alias but it does not work"
   ]
  },
  {
   "cell_type": "code",
   "execution_count": 75,
   "id": "ac5e3c2d",
   "metadata": {},
   "outputs": [
    {
     "name": "stdout",
     "output_type": "stream",
     "text": [
      "+--------+\n",
      "|forename|\n",
      "+--------+\n",
      "| Douglas|\n",
      "|  Thomas|\n",
      "|   Maria|\n",
      "|   Jerry|\n",
      "|   Larry|\n",
      "|  Dennis|\n",
      "|    Ruby|\n",
      "|    null|\n",
      "|  Angela|\n",
      "| Frances|\n",
      "|  Louise|\n",
      "|   Julie|\n",
      "| Brandon|\n",
      "|    Gary|\n",
      "|Kimberly|\n",
      "| Lillian|\n",
      "|  Jeremy|\n",
      "|   Shawn|\n",
      "|   Diana|\n",
      "|   Donna|\n",
      "+--------+\n",
      "only showing top 20 rows\n",
      "\n"
     ]
    }
   ],
   "source": [
    "from pyspark.sql.functions import col\n",
    "# we will now use col to rename it with alias\n",
    "df5.select(col(\"First Name\").alias(\"forename\")).show()"
   ]
  },
  {
   "cell_type": "code",
   "execution_count": 77,
   "id": "a2b2d1f8",
   "metadata": {},
   "outputs": [
    {
     "name": "stdout",
     "output_type": "stream",
     "text": [
      "+----------+------+--------------------+\n",
      "|First Name|Gender|                Team|\n",
      "+----------+------+--------------------+\n",
      "|   Douglas|  Male|           Marketing|\n",
      "|    Thomas|  Male|                null|\n",
      "|     Maria|Female|             Finance|\n",
      "|     Jerry|  Male|             Finance|\n",
      "|     Larry|  Male|     Client Services|\n",
      "|    Dennis|  Male|               Legal|\n",
      "|      Ruby|Female|             Product|\n",
      "|      null|Female|             Finance|\n",
      "|    Angela|Female|         Engineering|\n",
      "|   Frances|Female|Business Development|\n",
      "|    Louise|Female|                null|\n",
      "|     Julie|Female|               Legal|\n",
      "|   Brandon|  Male|     Human Resources|\n",
      "|      Gary|  Male|               Sales|\n",
      "|  Kimberly|Female|             Finance|\n",
      "|   Lillian|Female|             Product|\n",
      "|    Jeremy|  Male|     Human Resources|\n",
      "|     Shawn|  Male|             Product|\n",
      "|     Diana|Female|     Client Services|\n",
      "|     Donna|Female|             Product|\n",
      "+----------+------+--------------------+\n",
      "only showing top 20 rows\n",
      "\n"
     ]
    }
   ],
   "source": [
    "df5.select(\"First Name\", col(\"Gender\"),df5[\"Team\"]).show()"
   ]
  },
  {
   "cell_type": "code",
   "execution_count": 82,
   "id": "89de314f",
   "metadata": {},
   "outputs": [
    {
     "name": "stdout",
     "output_type": "stream",
     "text": [
      "+--------+------+----------+---------------+------+-------+-----------------+--------------------+\n",
      "|  f_name|Gender|Start Date|Last Login Time|Salary|Bonus %|Senior Management|                Team|\n",
      "+--------+------+----------+---------------+------+-------+-----------------+--------------------+\n",
      "| Douglas|  Male|  8/6/1993|       12:42 PM| 97308|  6.945|             true|           Marketing|\n",
      "|  Thomas|  Male| 3/31/1996|        6:53 AM| 61933|   4.17|             true|                null|\n",
      "|   Maria|Female| 4/23/1993|       11:17 AM|130590| 11.858|            false|             Finance|\n",
      "|   Jerry|  Male|  3/4/2005|        1:00 PM|138705|   9.34|             true|             Finance|\n",
      "|   Larry|  Male| 1/24/1998|        4:47 PM|101004|  1.389|             true|     Client Services|\n",
      "|  Dennis|  Male| 4/18/1987|        1:35 AM|115163| 10.125|            false|               Legal|\n",
      "|    Ruby|Female| 8/17/1987|        4:20 PM| 65476| 10.012|             true|             Product|\n",
      "|    null|Female| 7/20/2015|       10:43 AM| 45906| 11.598|             null|             Finance|\n",
      "|  Angela|Female|11/22/2005|        6:29 AM| 95570| 18.523|             true|         Engineering|\n",
      "| Frances|Female|  8/8/2002|        6:51 AM|139852|  7.524|             true|Business Development|\n",
      "|  Louise|Female| 8/12/1980|        9:01 AM| 63241| 15.132|             true|                null|\n",
      "|   Julie|Female|10/26/1997|        3:19 PM|102508| 12.637|             true|               Legal|\n",
      "| Brandon|  Male| 12/1/1980|        1:08 AM|112807| 17.492|             true|     Human Resources|\n",
      "|    Gary|  Male| 1/27/2008|       11:40 PM|109831|  5.831|            false|               Sales|\n",
      "|Kimberly|Female| 1/14/1999|        7:13 AM| 41426| 14.543|             true|             Finance|\n",
      "| Lillian|Female|  6/5/2016|        6:09 AM| 59414|  1.256|            false|             Product|\n",
      "|  Jeremy|  Male| 9/21/2010|        5:56 AM| 90370|  7.369|            false|     Human Resources|\n",
      "|   Shawn|  Male| 12/7/1986|        7:45 PM|111737|  6.414|            false|             Product|\n",
      "|   Diana|Female|10/23/1981|       10:27 AM|132940| 19.082|            false|     Client Services|\n",
      "|   Donna|Female| 7/22/2010|        3:48 AM| 81014|  1.894|            false|             Product|\n",
      "+--------+------+----------+---------------+------+-------+-----------------+--------------------+\n",
      "only showing top 20 rows\n",
      "\n"
     ]
    }
   ],
   "source": [
    "#change column names using withColumnRenamed\n",
    "df5.withColumnRenamed('First Name', 'f_name').show()\n",
    "#differnce between alias and withColumnRenamed:\n",
    "\n",
    "# we can get the entire dataframe with withColumnRenamed but in alias we get two column ef first name and fname dono ayenge isme so 2 columns with same data i.e why we use withcolumnrenamed"
   ]
  },
  {
   "cell_type": "code",
   "execution_count": 91,
   "id": "fdc281a3",
   "metadata": {},
   "outputs": [
    {
     "name": "stdout",
     "output_type": "stream",
     "text": [
      "+----------------------------------------+\n",
      "|concat(Start Date,  & , Last Login Time)|\n",
      "+----------------------------------------+\n",
      "|                     8/6/1993 & 12:42 PM|\n",
      "|                     3/31/1996 & 6:53 AM|\n",
      "|                    4/23/1993 & 11:17 AM|\n",
      "|                      3/4/2005 & 1:00 PM|\n",
      "|                     1/24/1998 & 4:47 PM|\n",
      "|                     4/18/1987 & 1:35 AM|\n",
      "|                     8/17/1987 & 4:20 PM|\n",
      "|                    7/20/2015 & 10:43 AM|\n",
      "|                    11/22/2005 & 6:29 AM|\n",
      "|                      8/8/2002 & 6:51 AM|\n",
      "|                     8/12/1980 & 9:01 AM|\n",
      "|                    10/26/1997 & 3:19 PM|\n",
      "|                     12/1/1980 & 1:08 AM|\n",
      "|                    1/27/2008 & 11:40 PM|\n",
      "|                     1/14/1999 & 7:13 AM|\n",
      "|                      6/5/2016 & 6:09 AM|\n",
      "|                     9/21/2010 & 5:56 AM|\n",
      "|                     12/7/1986 & 7:45 PM|\n",
      "|                    10/23/1981 & 10:2...|\n",
      "|                     7/22/2010 & 3:48 AM|\n",
      "+----------------------------------------+\n",
      "only showing top 20 rows\n",
      "\n"
     ]
    }
   ],
   "source": [
    "# combine two columns\n",
    "# concat is not a dataframe function so we have to take a function uske andar we hav eto use concat i.e we can not directly do df.concat we have to use it inside functions \n",
    "from pyspark.sql.functions import *\n",
    "df5.select(concat(\"Start Date\",lit(\" & \"),\"Last Login Time\")).show()\n",
    "# lit used to add space"
   ]
  },
  {
   "cell_type": "code",
   "execution_count": 115,
   "id": "5ce33dba",
   "metadata": {},
   "outputs": [
    {
     "name": "stdout",
     "output_type": "stream",
     "text": [
      "+--------------------+\n",
      "|            datetime|\n",
      "+--------------------+\n",
      "| 8/6/1993 & 12:42 PM|\n",
      "| 3/31/1996 & 6:53 AM|\n",
      "|4/23/1993 & 11:17 AM|\n",
      "|  3/4/2005 & 1:00 PM|\n",
      "| 1/24/1998 & 4:47 PM|\n",
      "| 4/18/1987 & 1:35 AM|\n",
      "| 8/17/1987 & 4:20 PM|\n",
      "|7/20/2015 & 10:43 AM|\n",
      "|11/22/2005 & 6:29 AM|\n",
      "|  8/8/2002 & 6:51 AM|\n",
      "| 8/12/1980 & 9:01 AM|\n",
      "|10/26/1997 & 3:19 PM|\n",
      "| 12/1/1980 & 1:08 AM|\n",
      "|1/27/2008 & 11:40 PM|\n",
      "| 1/14/1999 & 7:13 AM|\n",
      "|  6/5/2016 & 6:09 AM|\n",
      "| 9/21/2010 & 5:56 AM|\n",
      "| 12/7/1986 & 7:45 PM|\n",
      "|10/23/1981 & 10:2...|\n",
      "| 7/22/2010 & 3:48 AM|\n",
      "+--------------------+\n",
      "only showing top 20 rows\n",
      "\n",
      "+----------+------+----------+---------------+------+-------+-----------------+--------------------+--------------------+\n",
      "|First Name|Gender|Start Date|Last Login Time|Salary|Bonus %|Senior Management|                Team|            datetime|\n",
      "+----------+------+----------+---------------+------+-------+-----------------+--------------------+--------------------+\n",
      "|   Douglas|  Male|  8/6/1993|       12:42 PM| 97308|  6.945|             true|           Marketing| 8/6/1993 & 12:42 PM|\n",
      "|    Thomas|  Male| 3/31/1996|        6:53 AM| 61933|   4.17|             true|                null| 3/31/1996 & 6:53 AM|\n",
      "|     Maria|Female| 4/23/1993|       11:17 AM|130590| 11.858|            false|             Finance|4/23/1993 & 11:17 AM|\n",
      "|     Jerry|  Male|  3/4/2005|        1:00 PM|138705|   9.34|             true|             Finance|  3/4/2005 & 1:00 PM|\n",
      "|     Larry|  Male| 1/24/1998|        4:47 PM|101004|  1.389|             true|     Client Services| 1/24/1998 & 4:47 PM|\n",
      "|    Dennis|  Male| 4/18/1987|        1:35 AM|115163| 10.125|            false|               Legal| 4/18/1987 & 1:35 AM|\n",
      "|      Ruby|Female| 8/17/1987|        4:20 PM| 65476| 10.012|             true|             Product| 8/17/1987 & 4:20 PM|\n",
      "|      null|Female| 7/20/2015|       10:43 AM| 45906| 11.598|             null|             Finance|7/20/2015 & 10:43 AM|\n",
      "|    Angela|Female|11/22/2005|        6:29 AM| 95570| 18.523|             true|         Engineering|11/22/2005 & 6:29 AM|\n",
      "|   Frances|Female|  8/8/2002|        6:51 AM|139852|  7.524|             true|Business Development|  8/8/2002 & 6:51 AM|\n",
      "|    Louise|Female| 8/12/1980|        9:01 AM| 63241| 15.132|             true|                null| 8/12/1980 & 9:01 AM|\n",
      "|     Julie|Female|10/26/1997|        3:19 PM|102508| 12.637|             true|               Legal|10/26/1997 & 3:19 PM|\n",
      "|   Brandon|  Male| 12/1/1980|        1:08 AM|112807| 17.492|             true|     Human Resources| 12/1/1980 & 1:08 AM|\n",
      "|      Gary|  Male| 1/27/2008|       11:40 PM|109831|  5.831|            false|               Sales|1/27/2008 & 11:40 PM|\n",
      "|  Kimberly|Female| 1/14/1999|        7:13 AM| 41426| 14.543|             true|             Finance| 1/14/1999 & 7:13 AM|\n",
      "|   Lillian|Female|  6/5/2016|        6:09 AM| 59414|  1.256|            false|             Product|  6/5/2016 & 6:09 AM|\n",
      "|    Jeremy|  Male| 9/21/2010|        5:56 AM| 90370|  7.369|            false|     Human Resources| 9/21/2010 & 5:56 AM|\n",
      "|     Shawn|  Male| 12/7/1986|        7:45 PM|111737|  6.414|            false|             Product| 12/7/1986 & 7:45 PM|\n",
      "|     Diana|Female|10/23/1981|       10:27 AM|132940| 19.082|            false|     Client Services|10/23/1981 & 10:2...|\n",
      "|     Donna|Female| 7/22/2010|        3:48 AM| 81014|  1.894|            false|             Product| 7/22/2010 & 3:48 AM|\n",
      "+----------+------+----------+---------------+------+-------+-----------------+--------------------+--------------------+\n",
      "only showing top 20 rows\n",
      "\n"
     ]
    }
   ],
   "source": [
    "#to rename\n",
    "df15 = df5.select(concat(\"Start Date\",lit(\" & \"),\"Last Login Time\").alias(\"datetime\")).show()\n",
    "#to get entire dataframe\n",
    "df5.select(\"*\",concat(\"Start Date\",lit(\" & \"),\"Last Login Time\").alias(\"datetime\")).show()"
   ]
  },
  {
   "cell_type": "code",
   "execution_count": 119,
   "id": "1dea6d22",
   "metadata": {},
   "outputs": [],
   "source": [
    "dffinal = df5.drop(\"Start Date\",\"Last Login Time\")"
   ]
  },
  {
   "cell_type": "code",
   "execution_count": 120,
   "id": "6e37fe6e",
   "metadata": {},
   "outputs": [
    {
     "name": "stdout",
     "output_type": "stream",
     "text": [
      "+----------+------+------+-------+-----------------+--------------------+\n",
      "|First Name|Gender|Salary|Bonus %|Senior Management|                Team|\n",
      "+----------+------+------+-------+-----------------+--------------------+\n",
      "|   Douglas|  Male| 97308|  6.945|             true|           Marketing|\n",
      "|    Thomas|  Male| 61933|   4.17|             true|                null|\n",
      "|     Maria|Female|130590| 11.858|            false|             Finance|\n",
      "|     Jerry|  Male|138705|   9.34|             true|             Finance|\n",
      "|     Larry|  Male|101004|  1.389|             true|     Client Services|\n",
      "|    Dennis|  Male|115163| 10.125|            false|               Legal|\n",
      "|      Ruby|Female| 65476| 10.012|             true|             Product|\n",
      "|      null|Female| 45906| 11.598|             null|             Finance|\n",
      "|    Angela|Female| 95570| 18.523|             true|         Engineering|\n",
      "|   Frances|Female|139852|  7.524|             true|Business Development|\n",
      "|    Louise|Female| 63241| 15.132|             true|                null|\n",
      "|     Julie|Female|102508| 12.637|             true|               Legal|\n",
      "|   Brandon|  Male|112807| 17.492|             true|     Human Resources|\n",
      "|      Gary|  Male|109831|  5.831|            false|               Sales|\n",
      "|  Kimberly|Female| 41426| 14.543|             true|             Finance|\n",
      "|   Lillian|Female| 59414|  1.256|            false|             Product|\n",
      "|    Jeremy|  Male| 90370|  7.369|            false|     Human Resources|\n",
      "|     Shawn|  Male|111737|  6.414|            false|             Product|\n",
      "|     Diana|Female|132940| 19.082|            false|     Client Services|\n",
      "|     Donna|Female| 81014|  1.894|            false|             Product|\n",
      "+----------+------+------+-------+-----------------+--------------------+\n",
      "only showing top 20 rows\n",
      "\n"
     ]
    }
   ],
   "source": [
    "dffinal.show()"
   ]
  },
  {
   "cell_type": "code",
   "execution_count": 122,
   "id": "f8937bbe",
   "metadata": {},
   "outputs": [],
   "source": [
    "dffinal.write.csv(\"/home/labuser/day3/Pysparkfinal_employee.csv\")"
   ]
  },
  {
   "cell_type": "code",
   "execution_count": null,
   "id": "d3551f24",
   "metadata": {},
   "outputs": [],
   "source": []
  }
 ],
 "metadata": {
  "kernelspec": {
   "display_name": "Python 3 (ipykernel)",
   "language": "python",
   "name": "python3"
  },
  "language_info": {
   "codemirror_mode": {
    "name": "ipython",
    "version": 3
   },
   "file_extension": ".py",
   "mimetype": "text/x-python",
   "name": "python",
   "nbconvert_exporter": "python",
   "pygments_lexer": "ipython3",
   "version": "3.11.4"
  }
 },
 "nbformat": 4,
 "nbformat_minor": 5
}
