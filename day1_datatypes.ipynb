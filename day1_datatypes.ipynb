{
 "cells": [
  {
   "cell_type": "code",
   "execution_count": 1,
   "id": "fa7a2f7e",
   "metadata": {},
   "outputs": [
    {
     "name": "stdout",
     "output_type": "stream",
     "text": [
      "<class 'int'>\n"
     ]
    }
   ],
   "source": [
    "a=10\n",
    "print(type(a))"
   ]
  },
  {
   "cell_type": "code",
   "execution_count": 2,
   "id": "c16150f2",
   "metadata": {},
   "outputs": [],
   "source": [
    "b=\"Srishty\""
   ]
  },
  {
   "cell_type": "code",
   "execution_count": 9,
   "id": "c1a44a52",
   "metadata": {},
   "outputs": [
    {
     "name": "stdout",
     "output_type": "stream",
     "text": [
      "<class 'str'>\n",
      "<class 'str'>\n",
      "<class 'str'>\n",
      "Srishty srishty 'srishty'\n"
     ]
    }
   ],
   "source": [
    "c='srishty'\n",
    "d=\"'srishty'\"\n",
    "#for multiline - triple quotes\n",
    "print(type(b))\n",
    "print(type(c))\n",
    "print(type(d))\n",
    "print(b+' '+c+' '+d)"
   ]
  },
  {
   "cell_type": "code",
   "execution_count": 11,
   "id": "ce453fc2",
   "metadata": {},
   "outputs": [
    {
     "name": "stdout",
     "output_type": "stream",
     "text": [
      "<class 'bool'>\n"
     ]
    }
   ],
   "source": [
    "a = True\n",
    "b = False\n",
    "print(type(a))"
   ]
  },
  {
   "cell_type": "code",
   "execution_count": 12,
   "id": "82dce25f",
   "metadata": {},
   "outputs": [
    {
     "name": "stdout",
     "output_type": "stream",
     "text": [
      "<class 'bool'>\n"
     ]
    }
   ],
   "source": [
    "print(type(b))"
   ]
  },
  {
   "cell_type": "code",
   "execution_count": 13,
   "id": "0b80289e",
   "metadata": {},
   "outputs": [
    {
     "name": "stdout",
     "output_type": "stream",
     "text": [
      "2\n"
     ]
    }
   ],
   "source": [
    "print(True+True)"
   ]
  },
  {
   "cell_type": "code",
   "execution_count": 14,
   "id": "b9f4f094",
   "metadata": {},
   "outputs": [
    {
     "name": "stdout",
     "output_type": "stream",
     "text": [
      "1\n"
     ]
    }
   ],
   "source": [
    "print(True-False)"
   ]
  },
  {
   "cell_type": "code",
   "execution_count": 15,
   "id": "9f97bb7b",
   "metadata": {},
   "outputs": [],
   "source": [
    "c=10+20j"
   ]
  },
  {
   "cell_type": "code",
   "execution_count": 16,
   "id": "10535545",
   "metadata": {},
   "outputs": [
    {
     "name": "stdout",
     "output_type": "stream",
     "text": [
      "(10+20j)\n"
     ]
    }
   ],
   "source": [
    "print(c)"
   ]
  },
  {
   "cell_type": "code",
   "execution_count": 17,
   "id": "ec77abc3",
   "metadata": {},
   "outputs": [
    {
     "name": "stdout",
     "output_type": "stream",
     "text": [
      "<class 'complex'>\n"
     ]
    }
   ],
   "source": [
    "print(type(c))"
   ]
  },
  {
   "cell_type": "code",
   "execution_count": 19,
   "id": "ba766175",
   "metadata": {},
   "outputs": [],
   "source": [
    "a=10\n",
    "# it will show location id where the value 10 will be stored\n",
    "#we have a single object having value 10 and any other variable that has value 10 then it will point automatically to that object\n",
    "b=10\n",
    "print(id(a))\n",
    "print(id(b))"
   ]
  },
  {
   "cell_type": "code",
   "execution_count": 21,
   "id": "13d7759c",
   "metadata": {},
   "outputs": [
    {
     "name": "stdout",
     "output_type": "stream",
     "text": [
      "7\n",
      "8885192\n",
      "13\n",
      "8885384\n"
     ]
    }
   ],
   "source": [
    "s=7\n",
    "print(s)\n",
    "print(id(s))\n",
    "#after that a new object will be created and the old one can not be retrieved so for new s a new object will be created therefore we can see difft id's for both s\n",
    "s=13\n",
    "print(s)\n",
    "print(id(s))"
   ]
  },
  {
   "cell_type": "code",
   "execution_count": 22,
   "id": "f2a48346",
   "metadata": {},
   "outputs": [],
   "source": [
    "# s{start:end-1:skip}\n",
    "s=\"abcdefghijklmnopqrstuvwxyz\""
   ]
  },
  {
   "cell_type": "code",
   "execution_count": 24,
   "id": "43c1a536",
   "metadata": {},
   "outputs": [
    {
     "data": {
      "text/plain": [
       "'mno'"
      ]
     },
     "execution_count": 24,
     "metadata": {},
     "output_type": "execute_result"
    }
   ],
   "source": [
    "s[12:-11]"
   ]
  },
  {
   "cell_type": "code",
   "execution_count": 26,
   "id": "4e52eb4f",
   "metadata": {},
   "outputs": [
    {
     "data": {
      "text/plain": [
       "'xyz'"
      ]
     },
     "execution_count": 26,
     "metadata": {},
     "output_type": "execute_result"
    }
   ],
   "source": [
    "s[-3:]"
   ]
  },
  {
   "cell_type": "code",
   "execution_count": 27,
   "id": "64065de9",
   "metadata": {},
   "outputs": [
    {
     "data": {
      "text/plain": [
       "'abcdefghijklmn'"
      ]
     },
     "execution_count": 27,
     "metadata": {},
     "output_type": "execute_result"
    }
   ],
   "source": [
    "s[:-12]"
   ]
  },
  {
   "cell_type": "code",
   "execution_count": 28,
   "id": "1094e5a6",
   "metadata": {},
   "outputs": [
    {
     "name": "stdout",
     "output_type": "stream",
     "text": [
      "0.5\n",
      "0\n",
      "0.0\n"
     ]
    }
   ],
   "source": [
    "#operators\n",
    "#depending upon the variable the output for floordivision will change (//)\n",
    "a=2\n",
    "b=4\n",
    "c=6.0\n",
    "print(a/b)\n",
    "print(a//b)\n",
    "print(a//c)"
   ]
  },
  {
   "cell_type": "code",
   "execution_count": 29,
   "id": "ace1b7da",
   "metadata": {},
   "outputs": [
    {
     "name": "stdout",
     "output_type": "stream",
     "text": [
      "True\n",
      "True\n",
      "True\n",
      "False\n",
      "False\n"
     ]
    }
   ],
   "source": [
    "a=True\n",
    "b=False\n",
    "print(a or a)\n",
    "print(a and a)\n",
    "print(a or b)\n",
    "print(b or b)\n",
    "print(a and b)"
   ]
  },
  {
   "cell_type": "code",
   "execution_count": 30,
   "id": "c2ccc534",
   "metadata": {},
   "outputs": [],
   "source": [
    "is_geological_survey_complete = True\n",
    "is_environmental_clearance_received = True\n",
    "is_market_demand_high = False\n",
    "should_start_drilling = is_geological_survey_complete and is_environmental_clearance_received and is_market_demand_high"
   ]
  },
  {
   "cell_type": "code",
   "execution_count": 31,
   "id": "7d177299",
   "metadata": {},
   "outputs": [
    {
     "name": "stdout",
     "output_type": "stream",
     "text": [
      "False\n"
     ]
    }
   ],
   "source": [
    "print(should_start_drilling)\n"
   ]
  },
  {
   "cell_type": "code",
   "execution_count": 32,
   "id": "75fb9dab",
   "metadata": {},
   "outputs": [],
   "source": [
    "# Boolean Variables\n",
    "HasExplorationPermit = True\n",
    "HasDrillingRights = True\n",
    "HasEnvironmentalApproval = False\n",
    "HasOilDiscovery = True\n",
    "\n",
    "# Logical Operations\n",
    "IsExplorationAllowed = HasExplorationPermit and HasDrillingRights and not HasEnvironmentalApproval\n",
    "IsDiscoveryProfitable = HasOilDiscovery and (HasExplorationPermit or HasDrillingRights)"
   ]
  },
  {
   "cell_type": "code",
   "execution_count": 33,
   "id": "133a2cee",
   "metadata": {},
   "outputs": [
    {
     "name": "stdout",
     "output_type": "stream",
     "text": [
      "True\n"
     ]
    }
   ],
   "source": [
    "print(IsExplorationAllowed)"
   ]
  },
  {
   "cell_type": "code",
   "execution_count": 34,
   "id": "1f218bbb",
   "metadata": {},
   "outputs": [
    {
     "name": "stdout",
     "output_type": "stream",
     "text": [
      "True\n"
     ]
    }
   ],
   "source": [
    "print(IsDiscoveryProfitable)"
   ]
  },
  {
   "cell_type": "code",
   "execution_count": 35,
   "id": "d6b57fce",
   "metadata": {},
   "outputs": [
    {
     "data": {
      "text/plain": [
       "'sevensevensevensevensevensevenseven'"
      ]
     },
     "execution_count": 35,
     "metadata": {},
     "output_type": "execute_result"
    }
   ],
   "source": [
    "\"seven\"*7"
   ]
  },
  {
   "cell_type": "code",
   "execution_count": 37,
   "id": "ba7767f3",
   "metadata": {},
   "outputs": [
    {
     "name": "stdout",
     "output_type": "stream",
     "text": [
      "[10, 'srishty', 7, 9.8, True]\n",
      "<class 'list'>\n"
     ]
    }
   ],
   "source": [
    "#LIST\n",
    "# slicing and indexing can be performed\n",
    "# order is maintained\n",
    "# Duplictaes are allowed\n",
    "# list is mutable(we can edit something inside that object)- same object is created and that weill only be edited\n",
    "a=[10,\"srishty\",7,9.8,True]\n",
    "print(a)\n",
    "print(type(a))"
   ]
  },
  {
   "cell_type": "code",
   "execution_count": 38,
   "id": "f6794f26",
   "metadata": {},
   "outputs": [
    {
     "name": "stdout",
     "output_type": "stream",
     "text": [
      "140396802185408\n",
      "140396802185408\n"
     ]
    }
   ],
   "source": [
    "print(id(a))\n",
    "a.append(26)\n",
    "print(id(a))"
   ]
  },
  {
   "cell_type": "code",
   "execution_count": 40,
   "id": "bea8cb36",
   "metadata": {},
   "outputs": [],
   "source": [
    "#tuple\n",
    "#same as list but it is immutable\n",
    "#syntax: in paranthesis : ()\n",
    "a=(\"srishty\",True,\"2002-02-07\",67,8)\n",
    "# a.append(1) #we cannnot edit list"
   ]
  },
  {
   "cell_type": "code",
   "execution_count": 41,
   "id": "a4f93e03",
   "metadata": {},
   "outputs": [],
   "source": [
    "#tuple is faster bcoz it is immutable\n"
   ]
  },
  {
   "cell_type": "code",
   "execution_count": 43,
   "id": "4c660ad4",
   "metadata": {},
   "outputs": [
    {
     "name": "stdout",
     "output_type": "stream",
     "text": [
      "I am srishty working as IDA\n",
      "I am srishty working as IDA\n"
     ]
    }
   ],
   "source": [
    "#formatted string\n",
    "name = \"srishty\"\n",
    "dept = \"IDA\"\n",
    "print(\"I am {} working as {}\".format(name,dept))\n",
    "print(\"I am %s working as %s\" %(name,dept))"
   ]
  },
  {
   "cell_type": "code",
   "execution_count": 44,
   "id": "b9de1281",
   "metadata": {},
   "outputs": [
    {
     "name": "stdout",
     "output_type": "stream",
     "text": [
      "I am srishty working as IDA\n"
     ]
    }
   ],
   "source": [
    "#latest way of formatted string \n",
    "print(f\"I am {name} working as {dept}\")"
   ]
  },
  {
   "cell_type": "code",
   "execution_count": 46,
   "id": "e9cff984",
   "metadata": {},
   "outputs": [],
   "source": [
    "# Employee Information:\n",
    "name = \"John Doe\"\n",
    "job_title = \"Senior Geologist\"\n",
    "department = \"Geology\"\n",
    "email = \"johndoe@email.com\"\n",
    "phone = \"123-456-7890\""
   ]
  },
  {
   "cell_type": "code",
   "execution_count": 53,
   "id": "08c7e3c2",
   "metadata": {},
   "outputs": [
    {
     "name": "stdout",
     "output_type": "stream",
     "text": [
      " name : John Doe \n",
      " job_title : Senior Geologist \n",
      " department : Geology \n",
      " email : johndoe@email.com \n",
      " phone : 123-456-7890 \n"
     ]
    }
   ],
   "source": [
    "print(f\" name : {name} \\n job_title : {job_title} \\n department : {department} \\n email : {email} \\n phone : {phone} \")"
   ]
  },
  {
   "cell_type": "code",
   "execution_count": 54,
   "id": "b4350a72",
   "metadata": {},
   "outputs": [],
   "source": [
    "#set\n",
    "#heterogenous object\n",
    "#duplivctaes are not allowed\n",
    "#order is not preserved\n",
    "#slicinh and indexing are not possible"
   ]
  },
  {
   "cell_type": "code",
   "execution_count": 55,
   "id": "3fa93f03",
   "metadata": {},
   "outputs": [],
   "source": [
    "c={10,10.5,\"shelll\",True,True,10,10,10,\"Python\"}"
   ]
  },
  {
   "cell_type": "code",
   "execution_count": 56,
   "id": "42c235ad",
   "metadata": {},
   "outputs": [
    {
     "name": "stdout",
     "output_type": "stream",
     "text": [
      "{True, 10.5, 'shelll', 10, 'Python'}\n"
     ]
    }
   ],
   "source": [
    "print(c)\n"
   ]
  },
  {
   "cell_type": "code",
   "execution_count": 57,
   "id": "ba7b13dc",
   "metadata": {},
   "outputs": [],
   "source": [
    "c.add(55)"
   ]
  },
  {
   "cell_type": "code",
   "execution_count": 59,
   "id": "64dd8d74",
   "metadata": {},
   "outputs": [
    {
     "name": "stdout",
     "output_type": "stream",
     "text": [
      "{'location': 'delhi', 'name': 'srishty', 'age': 21}\n"
     ]
    }
   ],
   "source": [
    "#dictionary\n",
    "# {}\n",
    "# key value piar\n",
    "#allows heterogenous object\n",
    "#order is maintinaed\n",
    "#no duplicates(no duplicate key but value can be duplivcate)\n",
    "d={\"location\":\"delhi\",\"name\":\"srishty\",\"age\":21}\n",
    "print(d)"
   ]
  },
  {
   "cell_type": "code",
   "execution_count": 60,
   "id": "de8ef017",
   "metadata": {},
   "outputs": [],
   "source": [
    "d['location']=\"bangalore\""
   ]
  },
  {
   "cell_type": "code",
   "execution_count": 61,
   "id": "1af9eb3d",
   "metadata": {},
   "outputs": [
    {
     "name": "stdout",
     "output_type": "stream",
     "text": [
      "{'location': 'bangalore', 'name': 'srishty', 'age': 21}\n"
     ]
    }
   ],
   "source": [
    "print(d)"
   ]
  },
  {
   "cell_type": "code",
   "execution_count": 62,
   "id": "379a41e0",
   "metadata": {},
   "outputs": [],
   "source": [
    "#membership operator : (in) and (not in)"
   ]
  },
  {
   "cell_type": "code",
   "execution_count": 63,
   "id": "5eda4b00",
   "metadata": {},
   "outputs": [
    {
     "name": "stdout",
     "output_type": "stream",
     "text": [
      "Is Hydrotreating Unit installed? True\n",
      "Is Thermal Cracking Unit obsolete? True\n"
     ]
    }
   ],
   "source": [
    "#to chcek whether a value is present in list/string etc\n",
    "# List of Equipment\n",
    "refineryEquipment = [\"Crude Distillation Unit\", \"Catalytic Cracking Unit\", \"Hydrotreating Unit\", \"FCC Unit\"]\n",
    "\n",
    " \n",
    "\n",
    "# Membership Operator\n",
    "IsUnitInstalled = \"Hydrotreating Unit\" in refineryEquipment\n",
    "IsUnitObsolete = \"Thermal Cracking Unit\" not in refineryEquipment\n",
    "\n",
    " \n",
    "\n",
    "print(\"Is Hydrotreating Unit installed?\", IsUnitInstalled)\n",
    "print(\"Is Thermal Cracking Unit obsolete?\", IsUnitObsolete)"
   ]
  },
  {
   "cell_type": "code",
   "execution_count": 64,
   "id": "5ae170cd",
   "metadata": {},
   "outputs": [
    {
     "data": {
      "text/plain": [
       "'John Doe, Senior Geologist, Geology, johndoe@email.com, 123-456-7890'"
      ]
     },
     "execution_count": 64,
     "metadata": {},
     "output_type": "execute_result"
    }
   ],
   "source": [
    "employees = [\n",
    "    \"John Doe, Senior Geologist, Geology, johndoe@email.com, 123-456-7890\",\n",
    "    \"Jane Smith, Drilling Engineer, Drilling, janesmith@email.com, 987-654-3210\",\n",
    "    \"Bob Johnson, Reservoir Engineer, Reservoir Engineering, bobjohnson@email.com, 456-789-0123\",\n",
    "    \"Alice Brown, Petrophysicist, Petrophysics, alicebrown@email.com, 789-012-3456\"\n",
    "]\n",
    "employees[0]"
   ]
  },
  {
   "cell_type": "code",
   "execution_count": 65,
   "id": "c2f0a421",
   "metadata": {},
   "outputs": [],
   "source": [
    "new_employee = \"Eva Green, Drilling Technician, Drilling, evagreen@email.com, 111-222-3333\"\n",
    "employees.append(new_employee)"
   ]
  },
  {
   "cell_type": "code",
   "execution_count": 66,
   "id": "29846e2b",
   "metadata": {},
   "outputs": [
    {
     "name": "stdout",
     "output_type": "stream",
     "text": [
      "['John Doe, Senior Geologist, Geology, johndoe@email.com, 123-456-7890', 'Jane Smith, Drilling Engineer, Drilling, janesmith@email.com, 987-654-3210', 'Bob Johnson, Reservoir Engineer, Reservoir Engineering, bobjohnson@email.com, 456-789-0123', 'Alice Brown, Petrophysicist, Petrophysics, alicebrown@email.com, 789-012-3456', 'Eva Green, Drilling Technician, Drilling, evagreen@email.com, 111-222-3333']\n"
     ]
    }
   ],
   "source": [
    "print(employees)"
   ]
  },
  {
   "cell_type": "code",
   "execution_count": 68,
   "id": "dec96d19",
   "metadata": {},
   "outputs": [
    {
     "name": "stdout",
     "output_type": "stream",
     "text": [
      "can vote\n"
     ]
    }
   ],
   "source": [
    "age=20\n",
    "if(age>18):\n",
    "    print(\"can vote\")\n",
    "else:\n",
    "    print(\"can't soorrryy\")"
   ]
  },
  {
   "cell_type": "code",
   "execution_count": 72,
   "id": "f4fb71f3",
   "metadata": {},
   "outputs": [
    {
     "name": "stdout",
     "output_type": "stream",
     "text": [
      "enter current_fuel_level100\n"
     ]
    }
   ],
   "source": [
    "low_fuel_threshold = 1000\n",
    "crtical_fuel_threshold = 500\n",
    "current_fuel_level = int(input(\"enter current_fuel_level\"))"
   ]
  },
  {
   "cell_type": "code",
   "execution_count": 73,
   "id": "12ba9677",
   "metadata": {},
   "outputs": [
    {
     "data": {
      "text/plain": [
       "int"
      ]
     },
     "execution_count": 73,
     "metadata": {},
     "output_type": "execute_result"
    }
   ],
   "source": [
    "type(current_fuel_level)"
   ]
  },
  {
   "cell_type": "code",
   "execution_count": 74,
   "id": "07234c26",
   "metadata": {},
   "outputs": [
    {
     "name": "stdout",
     "output_type": "stream",
     "text": [
      "Critical fuel level reached. Take immediate action\n",
      "Add fuel900\n"
     ]
    }
   ],
   "source": [
    "if(current_fuel_level < crtical_fuel_threshold):\n",
    "    print(\"Critical fuel level reached. Take immediate action\")\n",
    "    more_fuel = int(input(\"Add fuel\"))\n",
    "    current_fuel_level = more_fuel+current_fuel_level\n",
    "elif(current_fuel_level<low_fuel_threshold):\n",
    "    print(\"Low Fuel alert!!!\")\n",
    "else: \n",
    "    print(\"continue fueling\")"
   ]
  },
  {
   "cell_type": "code",
   "execution_count": 75,
   "id": "3b8425d5",
   "metadata": {},
   "outputs": [
    {
     "data": {
      "text/plain": [
       "range(0, 9)"
      ]
     },
     "execution_count": 75,
     "metadata": {},
     "output_type": "execute_result"
    }
   ],
   "source": [
    "range(9)"
   ]
  },
  {
   "cell_type": "code",
   "execution_count": 76,
   "id": "1fd02415",
   "metadata": {},
   "outputs": [
    {
     "name": "stdout",
     "output_type": "stream",
     "text": [
      "0\n",
      "1\n",
      "2\n",
      "3\n",
      "4\n",
      "5\n",
      "6\n",
      "7\n",
      "8\n",
      "9\n"
     ]
    }
   ],
   "source": [
    "for i in range(0,10):\n",
    "    print(i)"
   ]
  },
  {
   "cell_type": "code",
   "execution_count": 77,
   "id": "8423a041",
   "metadata": {},
   "outputs": [
    {
     "data": {
      "text/plain": [
       "range(2, 22, 2)"
      ]
     },
     "execution_count": 77,
     "metadata": {},
     "output_type": "execute_result"
    }
   ],
   "source": [
    "range(10)\n",
    "range(5,10)\n",
    "range(2,22,2)"
   ]
  },
  {
   "cell_type": "code",
   "execution_count": 78,
   "id": "79c894d1",
   "metadata": {},
   "outputs": [
    {
     "name": "stdout",
     "output_type": "stream",
     "text": [
      "2\n",
      "4\n",
      "6\n",
      "8\n",
      "10\n",
      "12\n",
      "14\n",
      "16\n",
      "18\n",
      "20\n"
     ]
    }
   ],
   "source": [
    "#table of 2\n",
    "for i in range(2,21,2):\n",
    "    print(i)"
   ]
  },
  {
   "cell_type": "code",
   "execution_count": 1,
   "id": "97b6fc3a",
   "metadata": {},
   "outputs": [
    {
     "name": "stdout",
     "output_type": "stream",
     "text": [
      "hello from my_function\n"
     ]
    }
   ],
   "source": [
    "#function\n",
    "def my_function():\n",
    "    print(\"hello from my_function\")\n",
    "my_function()"
   ]
  },
  {
   "cell_type": "code",
   "execution_count": 2,
   "id": "1e4f04c0",
   "metadata": {},
   "outputs": [
    {
     "name": "stdout",
     "output_type": "stream",
     "text": [
      "hello srishty Good Morning\n"
     ]
    }
   ],
   "source": [
    "#parameter\n",
    "def wish(name):\n",
    "    print(\"hello\",name,\"Good Morning\")\n",
    "wish(\"srishty\")"
   ]
  },
  {
   "cell_type": "code",
   "execution_count": 3,
   "id": "dc916a0e",
   "metadata": {},
   "outputs": [
    {
     "name": "stdout",
     "output_type": "stream",
     "text": [
      "4\n"
     ]
    }
   ],
   "source": [
    "def square(n):\n",
    "    print(n**2)\n",
    "square(2)"
   ]
  },
  {
   "cell_type": "code",
   "execution_count": 5,
   "id": "82debd44",
   "metadata": {},
   "outputs": [
    {
     "name": "stdout",
     "output_type": "stream",
     "text": [
      "4\n"
     ]
    }
   ],
   "source": [
    "def square2(n):\n",
    "    return n**2\n",
    "print(square2(2))"
   ]
  },
  {
   "cell_type": "code",
   "execution_count": 10,
   "id": "cffc4e47",
   "metadata": {},
   "outputs": [
    {
     "name": "stdout",
     "output_type": "stream",
     "text": [
      "odd\n"
     ]
    }
   ],
   "source": [
    "def evenodd(n):\n",
    "    if(n%2==0):\n",
    "        print(\"even\")\n",
    "    else:\n",
    "        print(\"odd\")\n",
    "evenodd(5601)"
   ]
  },
  {
   "cell_type": "code",
   "execution_count": 11,
   "id": "4770e389",
   "metadata": {},
   "outputs": [
    {
     "data": {
      "text/plain": [
       "5"
      ]
     },
     "execution_count": 11,
     "metadata": {},
     "output_type": "execute_result"
    }
   ],
   "source": [
    "def add(x,y):\n",
    "    return x+y\n",
    "add(2,3)"
   ]
  },
  {
   "cell_type": "code",
   "execution_count": 12,
   "id": "ed42c9ac",
   "metadata": {},
   "outputs": [],
   "source": [
    "#types of arguements\n",
    "# 1. POsitional arguement\n",
    "# 2. Keyword\n",
    "# 3. defaulat \n",
    "# 4. variable length arguement\n",
    "# 5. keyword variable length arguements"
   ]
  },
  {
   "cell_type": "code",
   "execution_count": 15,
   "id": "5a537013",
   "metadata": {},
   "outputs": [
    {
     "data": {
      "text/plain": [
       "2"
      ]
     },
     "execution_count": 15,
     "metadata": {},
     "output_type": "execute_result"
    }
   ],
   "source": [
    "#keyword\n",
    "def sub(a,b):\n",
    "    return a-b\n",
    "# sub(8,10)\n",
    "#if we are not sure what is the first parameter so we can by default add like keyword arguemet by defining a=10,b=8\n",
    "sub(b=8,a=10)"
   ]
  },
  {
   "cell_type": "code",
   "execution_count": 19,
   "id": "b963ba49",
   "metadata": {},
   "outputs": [
    {
     "name": "stdout",
     "output_type": "stream",
     "text": [
      "hello naval gn\n"
     ]
    }
   ],
   "source": [
    "def wish(name,msg):\n",
    "    print(\"hello\",name,msg)\n",
    "# wish(msg=\"gn\",\"srishty\")- this will give error\n",
    "#it got confused whteher srishty is the msg or \"gn\" is the message \n",
    "#positional arguements in by default \n",
    "#if you want them together then have positional first then keyword arguement \n",
    "#like\n",
    "wish(\"naval\",msg=\"gn\")"
   ]
  },
  {
   "cell_type": "code",
   "execution_count": 20,
   "id": "e1d563cc",
   "metadata": {},
   "outputs": [
    {
     "name": "stdout",
     "output_type": "stream",
     "text": [
      "19\n",
      "20\n"
     ]
    }
   ],
   "source": [
    "#default arguement \n",
    "def defaultexample(x=12,y=8):\n",
    "    return x+y\n",
    "print(defaultexample(10,9))\n",
    "print(defaultexample())"
   ]
  },
  {
   "cell_type": "code",
   "execution_count": 29,
   "id": "dee6cdcf",
   "metadata": {},
   "outputs": [
    {
     "name": "stdout",
     "output_type": "stream",
     "text": [
      "60\n"
     ]
    }
   ],
   "source": [
    "#variable length arguement \n",
    "#when we do not know how many parameters user can pass so we will use variable length arguemenst in this case\n",
    "# def printval(*no):\n",
    "#     print(no)\n",
    "# printval(1,2,3,4,5)\n",
    "\n",
    "def addval(*no):\n",
    "    sum=0\n",
    "    for i in no:\n",
    "        sum = sum+i\n",
    "    return (sum)\n",
    "print(addval(10,20,30))"
   ]
  },
  {
   "cell_type": "code",
   "execution_count": 31,
   "id": "9d4a5671",
   "metadata": {},
   "outputs": [
    {
     "name": "stdout",
     "output_type": "stream",
     "text": [
      "name srishty\n",
      "company shell\n",
      "age 21\n"
     ]
    }
   ],
   "source": [
    "# keyword variable length arguement \n",
    "#for keyword we will use doyble star **\n",
    "def fun(**keywordsArgs):\n",
    "    for i,j in keywordsArgs.items():\n",
    "        print(i,j)\n",
    "fun(name=\"srishty\",company=\"shell\",age=21)"
   ]
  },
  {
   "cell_type": "code",
   "execution_count": 35,
   "id": "904c57c1",
   "metadata": {},
   "outputs": [
    {
     "name": "stdout",
     "output_type": "stream",
     "text": [
      "Srishty\n",
      "INFORMATION: \n",
      "{'company': 'Shell', 'age': 21, 'state': 'Delhi'}\n",
      "company Shell\n",
      "age 21\n",
      "state Delhi\n"
     ]
    }
   ],
   "source": [
    "def person(name,**arg):\n",
    "    print(name)\n",
    "    print(\"INFORMATION: \")\n",
    "    print(arg)\n",
    "    for i,j in arg.items():\n",
    "        print(i,j)\n",
    "person(\"Srishty\",company=\"Shell\",age=21,state=\"Delhi\")\n",
    "#here srishty is the positional arg but irest is keyword variable arg"
   ]
  },
  {
   "cell_type": "code",
   "execution_count": 50,
   "id": "53f82f19",
   "metadata": {},
   "outputs": [
    {
     "name": "stdout",
     "output_type": "stream",
     "text": [
      "lubricants\n",
      "('A', 100, 500)\n",
      "{'vendor': 'abc', 'drillling_sites': 100}\n",
      "{'equipment': 'lubricants', 'details': ('A', 100, 500), 'attributes': {'vendor': 'abc', 'drillling_sites': 100}}\n",
      "[{'equipment': 'lubricants', 'details': ('A', 100, 500), 'attributes': {'vendor': 'abc', 'drillling_sites': 100}}]\n"
     ]
    }
   ],
   "source": [
    "# Task: Oil and Gas Equipment and Drilling Site Management System\n",
    "\n",
    "# You are tasked with developing a Python program for an oil and gas company to manage their drilling equipment\n",
    "# and drilling sites. The program should use *args and **kwargs to provide flexibility in adding and searching \n",
    "# for equipment and sites. Here are the tasks you need to complete:\n",
    "# Create a Python script that defines empty lists for drilling equipment and drilling sites.\n",
    "\n",
    " \n",
    "# Implement a function add_equipment that takes the following parameters:\n",
    "\n",
    "# equipment_type (string): The type of equipment being added.\n",
    "# *args (tuple): Additional details about the equipment (e.g., model, power, capacity).\n",
    "# **kwargs (dictionary): Additional attributes of the equipment (e.g., vendor, power source).\n",
    "# The function should create a dictionary representing the equipment, including its type, details\n",
    "# (from *args), and attributes (from **kwargs). Then, it should append this dictionary to \n",
    "# the drilling_equipment list.\n",
    "\n",
    "drilling_equipment = []\n",
    "drilling_sites=[]\n",
    "\n",
    "def add_equipment(equipment_type,*args,**kwargs):\n",
    "    print(equipment_type)\n",
    "    print(args)\n",
    "    print(kwargs)\n",
    "    d={\n",
    "    \"equipment\":equipment_type,\n",
    "    \"details\":args,\n",
    "    \"attributes\":kwargs\n",
    "    }\n",
    "    print(d)\n",
    "    drilling_equipment.append(d)\n",
    "    \n",
    "add_equipment(\"lubricants\",\"A\",100,500,vendor=\"abc\",drillling_sites=100)\n",
    "print(drilling_equipment)"
   ]
  },
  {
   "cell_type": "code",
   "execution_count": 49,
   "id": "57d7e662",
   "metadata": {},
   "outputs": [],
   "source": [
    "# Implement a function add_drilling_site with similar parameters: \n",
    "\n",
    "# site_name (string): The name of the drilling site being added.\n",
    "# *args (tuple): Additional details about the site (e.g., location, depth, terrain).\n",
    "# **kwargs (dictionary): Additional attributes of the site (e.g., status, operator).\n",
    "    \n",
    "# The function should create a dictionary representing the site, including its name, \n",
    "# details (from *args), and attributes (from **kwargs). Then, it should append this dictionary\n",
    "# to the drilling_sites list."
   ]
  },
  {
   "cell_type": "code",
   "execution_count": 53,
   "id": "b68bafd6",
   "metadata": {},
   "outputs": [
    {
     "name": "stdout",
     "output_type": "stream",
     "text": [
      "[{'name': 'site 2', 'details': ('delhi', 50, 'sfsfer'), 'attributes': {'status': 'y', 'operator': 'dsfwe'}}]\n"
     ]
    }
   ],
   "source": [
    "def add_drilling_site(site_name,*args,**kwargs):\n",
    "    d={\n",
    "        \"name\":site_name,\n",
    "        \"details\":args,\n",
    "        \"attributes\":kwargs\n",
    "    }\n",
    "    drilling_sites.append(d)\n",
    "add_drilling_site(\"site 2\",\"delhi\",50,\"sfsfer\",status=\"y\",operator=\"dsfwe\")\n",
    "print(drilling_sites)"
   ]
  },
  {
   "cell_type": "code",
   "execution_count": 55,
   "id": "722bef04",
   "metadata": {},
   "outputs": [
    {
     "data": {
      "text/plain": [
       "3628800"
      ]
     },
     "execution_count": 55,
     "metadata": {},
     "output_type": "execute_result"
    }
   ],
   "source": [
    "#recursive function\n",
    "def factorial(n):\n",
    "    if(n==0):\n",
    "        return 1\n",
    "    else:\n",
    "        return n*factorial(n-1)\n",
    "factorial(10)"
   ]
  },
  {
   "cell_type": "code",
   "execution_count": 68,
   "id": "774f124a",
   "metadata": {},
   "outputs": [
    {
     "name": "stdout",
     "output_type": "stream",
     "text": [
      "5\n",
      "0\n",
      "1\n",
      "1\n",
      "2\n",
      "3\n"
     ]
    }
   ],
   "source": [
    "def fibo(n):\n",
    "    if((n==0) or (n==1)):\n",
    "        return n\n",
    "    else:\n",
    "        return fibo(n-1)+fibo(n-2)\n",
    "\n",
    "i=0;\n",
    "x=int(input())\n",
    "for i in range(x):\n",
    "    print(fibo(i))"
   ]
  },
  {
   "cell_type": "code",
   "execution_count": 69,
   "id": "13dfdd7b",
   "metadata": {},
   "outputs": [
    {
     "data": {
      "text/plain": [
       "2.0"
      ]
     },
     "execution_count": 69,
     "metadata": {},
     "output_type": "execute_result"
    }
   ],
   "source": [
    "#decorator function\n",
    "def div(a,b):\n",
    "    c=a/b\n",
    "    return c\n",
    "div(10,5)"
   ]
  },
  {
   "cell_type": "code",
   "execution_count": 73,
   "id": "f345056f",
   "metadata": {},
   "outputs": [
    {
     "data": {
      "text/plain": [
       "2.0"
      ]
     },
     "execution_count": 73,
     "metadata": {},
     "output_type": "execute_result"
    }
   ],
   "source": [
    "def div1(a,b):\n",
    "    if a<b:\n",
    "#         swap\n",
    "        a,b = b,a\n",
    "    c=a/b\n",
    "    return c\n",
    "div1(5,10)"
   ]
  },
  {
   "cell_type": "code",
   "execution_count": 75,
   "id": "1da61589",
   "metadata": {},
   "outputs": [
    {
     "data": {
      "text/plain": [
       "2.0"
      ]
     },
     "execution_count": 75,
     "metadata": {},
     "output_type": "execute_result"
    }
   ],
   "source": [
    "# now we will make changes in og_div without making changes in the function we will use another function \n",
    "def og_div(a,b):\n",
    "    c=a/b\n",
    "    return c\n",
    "\n",
    "def smart_div(func):\n",
    "    def inner(a,b):\n",
    "        if a<b:\n",
    "            a,b = b,a\n",
    "        return func(a,b)\n",
    "    return inner\n",
    "\n",
    "result= smart_div(og_div)\n",
    "result(10,5)"
   ]
  },
  {
   "cell_type": "code",
   "execution_count": 90,
   "id": "462a6432",
   "metadata": {},
   "outputs": [
    {
     "name": "stdout",
     "output_type": "stream",
     "text": [
      "Hello Robert Bad Morning\n"
     ]
    }
   ],
   "source": [
    "def wish(name):\n",
    "    print(\"Hello\",name,\"Good Morning\")\n",
    "\n",
    "def comp_func(func):\n",
    "    def namechange(name):\n",
    "        if(name==\"Robert\"):\n",
    "            print(\"Hello\",name,\"Bad Morning\")\n",
    "        else:\n",
    "            return func(name)\n",
    "    return namechange\n",
    "#1st way of calling it\n",
    "result = comp_func(wish)\n",
    "result(\"Robert\")\n",
    "# 2nd way of calling it\n",
    "@comp_func\n",
    "def wish(name):\n",
    "    print(\"Hello\",name,\"Good Morning\")"
   ]
  },
  {
   "cell_type": "code",
   "execution_count": null,
   "id": "a27b1ad0",
   "metadata": {},
   "outputs": [],
   "source": [
    "# Task: Logging Decorator\n",
    "\n",
    "# You are tasked with creating a decorator function called log_function_call that logs when a \n",
    "# function is called, along with its arguments, and the result of the function call. You will apply \n",
    "# this decorator to two functions.\n",
    "\n",
    "# Implement a decorator function called log_function_call that takes a function as an argument and wraps it.\n",
    "# Inside the decorator, log the function's name, its arguments, and the result of the function call. \n",
    "# You can use the logging module for logging. \n",
    "\n",
    "# Create two functions:\n",
    "# add(a, b): This function takes two integers, a and b, as arguments and returns their sum.\n",
    "# multiply(a, b): This function takes two integers, a and b, as arguments and returns their product.\n",
    "# Apply the log_function_call decorator to both the add and multiply functions. \n",
    "\n",
    "# Call the decorated add and multiply functions with different arguments to verify that the decorator \n",
    "# logs the function calls and results correctly."
   ]
  },
  {
   "cell_type": "code",
   "execution_count": null,
   "id": "1e6da38f",
   "metadata": {},
   "outputs": [],
   "source": [
    "# def add(a,b):\n",
    "#     return a+b\n",
    "# def multiply(a,b):\n",
    "#     return a*b\n",
    "# def log_function_call(func):\n",
    "#     def add(a,b):\n",
    "#         x=func()\n",
    "#         return a+b\n",
    "#     return add\n",
    "    \n",
    "#     def multiply(a,b):\n",
    "#         x=func()\n",
    "#         return a*b\n",
    "#     return multiply\n",
    "\n",
    "# result = log_function_call(func)\n",
    "# result(2,5)  "
   ]
  },
  {
   "cell_type": "code",
   "execution_count": 94,
   "id": "f96f55f3",
   "metadata": {},
   "outputs": [
    {
     "name": "stdout",
     "output_type": "stream",
     "text": [
      "1\n",
      "2\n",
      "3\n",
      "4\n",
      "5\n",
      "6\n",
      "7\n",
      "8\n",
      "9\n",
      "10\n"
     ]
    }
   ],
   "source": [
    "#gneretaor function: \n",
    "# is yeild keywpord yto yeils a sequence of values one at a time instead of returning all at once\n",
    "def count_up_to(n):\n",
    "    i=1\n",
    "    while i<=n:\n",
    "        yield i\n",
    "        i=i+1\n",
    "        \n",
    "for i in count_up_to(10):\n",
    "    print(i)"
   ]
  },
  {
   "cell_type": "code",
   "execution_count": 1,
   "id": "934a5957",
   "metadata": {},
   "outputs": [
    {
     "name": "stdout",
     "output_type": "stream",
     "text": [
      "0\n",
      "1\n",
      "1\n",
      "2\n",
      "3\n",
      "5\n",
      "8\n",
      "13\n",
      "21\n",
      "34\n"
     ]
    }
   ],
   "source": [
    "# fibbonaci number using generator function\n",
    "def fibonacci_generator():\n",
    "    a, b = 0, 1\n",
    "    while True:\n",
    "        yield a\n",
    "        a, b = b, a + b\n",
    " \n",
    "\n",
    "fib_gen = fibonacci_generator()\n",
    "for _ in range(10):  \n",
    "    print(next(fib_gen))\n",
    "\n"
   ]
  },
  {
   "cell_type": "code",
   "execution_count": 2,
   "id": "ce0d4d41",
   "metadata": {},
   "outputs": [
    {
     "name": "stdout",
     "output_type": "stream",
     "text": [
      "[1, 4, 9, 16, 25]\n"
     ]
    }
   ],
   "source": [
    "#comprehensive list\n",
    "#newlist = [expression(elememnt) for element in oldList if condition]\n",
    "# expression: represent the operation you want to execute on every item within the iterable\n",
    "nos=[1,2,3,4,5]\n",
    "square=[x**2 for x in nos]\n",
    "print(square)"
   ]
  },
  {
   "cell_type": "code",
   "execution_count": 3,
   "id": "2f5c7f01",
   "metadata": {},
   "outputs": [
    {
     "name": "stdout",
     "output_type": "stream",
     "text": [
      "[0, 2, 4, 6, 8]\n"
     ]
    }
   ],
   "source": [
    "s=[x*2 for x in range(5)]\n",
    "print(s)"
   ]
  },
  {
   "cell_type": "code",
   "execution_count": 4,
   "id": "ccaff0a1",
   "metadata": {},
   "outputs": [
    {
     "name": "stdout",
     "output_type": "stream",
     "text": [
      "[1, 2, 3, 4, 5, 6, 7, 8]\n"
     ]
    }
   ],
   "source": [
    "nos=[1,2,3,4,5,6,7,8]\n",
    "l=[x for x in nos]\n",
    "print(l)"
   ]
  },
  {
   "cell_type": "code",
   "execution_count": 28,
   "id": "35b11d85",
   "metadata": {},
   "outputs": [
    {
     "name": "stdout",
     "output_type": "stream",
     "text": [
      "['p', 'c', 'c', 'j']\n"
     ]
    }
   ],
   "source": [
    "list1=[\"python\",\"c++\",\"c\",\"js\"]\n",
    "l=[i[0] for i in list1]\n",
    "print(l)"
   ]
  },
  {
   "cell_type": "code",
   "execution_count": 11,
   "id": "523e206f",
   "metadata": {},
   "outputs": [
    {
     "name": "stdout",
     "output_type": "stream",
     "text": [
      "[['THE', 3], ['QUICK', 5], ['BROWN', 5], ['FOX', 3], ['JUMPS', 5], ['OVER', 4], ['THE', 3], ['LAZY', 4], ['DOG', 3]]\n"
     ]
    }
   ],
   "source": [
    "words=\"the quick brown fox jumps over the lazy dog\"\n",
    "# o/p : capitalise each word and finc out length of it \n",
    "output = [[i.upper(),len(i)] for i in words.split()]\n",
    "print(output)"
   ]
  },
  {
   "cell_type": "code",
   "execution_count": 12,
   "id": "a5fa3c48",
   "metadata": {},
   "outputs": [
    {
     "data": {
      "text/plain": [
       "49"
      ]
     },
     "execution_count": 12,
     "metadata": {},
     "output_type": "execute_result"
    }
   ],
   "source": [
    "#lambda function/anonymous function - no name for the function\n",
    "# used majorly in pyspark - we use anonymous function mainly \n",
    "f = lambda i:i*i\n",
    "# the above function is anaonmous function for below function\n",
    "def square(i):\n",
    "    return i*i\n",
    "f(7)"
   ]
  },
  {
   "cell_type": "code",
   "execution_count": 14,
   "id": "998a7eb4",
   "metadata": {},
   "outputs": [
    {
     "data": {
      "text/plain": [
       "19"
      ]
     },
     "execution_count": 14,
     "metadata": {},
     "output_type": "execute_result"
    }
   ],
   "source": [
    "add = lambda x,y:x+y\n",
    "add(10,9)"
   ]
  },
  {
   "cell_type": "code",
   "execution_count": 23,
   "id": "230373d8",
   "metadata": {},
   "outputs": [
    {
     "data": {
      "text/plain": [
       "10"
      ]
     },
     "execution_count": 23,
     "metadata": {},
     "output_type": "execute_result"
    }
   ],
   "source": [
    "# largest no between 2 using lambda function \n",
    "largesy = lambda x,y:x if x>y else y\n",
    "largesy(10,9)"
   ]
  },
  {
   "cell_type": "code",
   "execution_count": 36,
   "id": "ea8c50e3",
   "metadata": {},
   "outputs": [
    {
     "ename": "TypeError",
     "evalue": "'list' object is not callable",
     "output_type": "error",
     "traceback": [
      "\u001b[0;31m---------------------------------------------------------------------------\u001b[0m",
      "\u001b[0;31mTypeError\u001b[0m                                 Traceback (most recent call last)",
      "Cell \u001b[0;32mIn[36], line 9\u001b[0m\n\u001b[1;32m      6\u001b[0m         \u001b[38;5;28;01mreturn\u001b[39;00m \u001b[38;5;28;01mFalse\u001b[39;00m\n\u001b[1;32m      8\u001b[0m l\u001b[38;5;241m=\u001b[39m[\u001b[38;5;241m1\u001b[39m,\u001b[38;5;241m2\u001b[39m,\u001b[38;5;241m3\u001b[39m,\u001b[38;5;241m4\u001b[39m,\u001b[38;5;241m5\u001b[39m,\u001b[38;5;241m6\u001b[39m,\u001b[38;5;241m7\u001b[39m,\u001b[38;5;241m8\u001b[39m,\u001b[38;5;241m9\u001b[39m,\u001b[38;5;241m10\u001b[39m]\n\u001b[0;32m----> 9\u001b[0m l1 \u001b[38;5;241m=\u001b[39m\u001b[38;5;28mlist\u001b[39m(\u001b[38;5;28mfilter\u001b[39m(evenodd,l))\n\u001b[1;32m     10\u001b[0m \u001b[38;5;28mprint\u001b[39m(l1)\n\u001b[1;32m     11\u001b[0m l2 \u001b[38;5;241m=\u001b[39m \u001b[38;5;28mlist\u001b[39m(\u001b[38;5;28mfilter\u001b[39m(\u001b[38;5;28;01mlambda\u001b[39;00m x:x\u001b[38;5;241m%\u001b[39m\u001b[38;5;241m2\u001b[39m\u001b[38;5;241m==\u001b[39m\u001b[38;5;241m0\u001b[39m,l))\n",
      "\u001b[0;31mTypeError\u001b[0m: 'list' object is not callable"
     ]
    }
   ],
   "source": [
    "# Filter,Map\n",
    "def evenodd(x):\n",
    "    if(x%2==0):\n",
    "        return True\n",
    "    else:\n",
    "        return False\n",
    "\n",
    "l=[1,2,3,4,5,6,7,8,9,10]\n",
    "l1 =list(filter(evenodd,l))\n",
    "print(l1)\n",
    "l2 = list(filter(lambda x:x%2==0,l))"
   ]
  },
  {
   "cell_type": "code",
   "execution_count": null,
   "id": "498617e2",
   "metadata": {},
   "outputs": [],
   "source": []
  }
 ],
 "metadata": {
  "kernelspec": {
   "display_name": "Python 3 (ipykernel)",
   "language": "python",
   "name": "python3"
  },
  "language_info": {
   "codemirror_mode": {
    "name": "ipython",
    "version": 3
   },
   "file_extension": ".py",
   "mimetype": "text/x-python",
   "name": "python",
   "nbconvert_exporter": "python",
   "pygments_lexer": "ipython3",
   "version": "3.11.4"
  }
 },
 "nbformat": 4,
 "nbformat_minor": 5
}
