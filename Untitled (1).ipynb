{
 "cells": [
  {
   "cell_type": "code",
   "execution_count": 1,
   "id": "6b3127e5",
   "metadata": {},
   "outputs": [
    {
     "name": "stderr",
     "output_type": "stream",
     "text": [
      "Setting default log level to \"WARN\".\n",
      "To adjust logging level use sc.setLogLevel(newLevel). For SparkR, use setLogLevel(newLevel).\n",
      "23/09/22 08:18:51 WARN NativeCodeLoader: Unable to load native-hadoop library for your platform... using builtin-java classes where applicable\n"
     ]
    }
   ],
   "source": [
    "import findspark\n",
    "findspark.init()\n",
    "from pyspark.sql import SparkSession\n",
    "spark = SparkSession.builder.appName(\"exapmle\").getOrCreate()\n",
    "from pyspark.sql.functions import *\n",
    "from pyspark.sql.types import *"
   ]
  },
  {
   "cell_type": "code",
   "execution_count": 5,
   "id": "6c74730d",
   "metadata": {},
   "outputs": [],
   "source": [
    "df_sales = spark.read.option(\"header\",True).option(\"inferschema\",True).csv('/home/labuser/Desktop/input_files/inp1.csv')"
   ]
  },
  {
   "cell_type": "code",
   "execution_count": 6,
   "id": "29f5bcd5",
   "metadata": {},
   "outputs": [],
   "source": [
    "df_product = spark.read.option(\"header\",True).option(\"inferschema\",True).csv('/home/labuser/Desktop/input_files/inp2.csv')"
   ]
  },
  {
   "cell_type": "code",
   "execution_count": 7,
   "id": "f84fcbf5",
   "metadata": {},
   "outputs": [
    {
     "name": "stdout",
     "output_type": "stream",
     "text": [
      "+--------------+----------+-----------+-------------+-------------------+\n",
      "|transaction_id|product_id|customer_id|quantity_sold|          timestamp|\n",
      "+--------------+----------+-----------+-------------+-------------------+\n",
      "|             1|       101|        201|            5|2023-09-22 10:15:00|\n",
      "|             2|       102|        202|            3|2023-09-22 11:30:00|\n",
      "|             3|       101|        203|            2|2023-09-22 12:45:00|\n",
      "|             4|       103|        204|            1|2023-09-22 14:00:00|\n",
      "|             5|       102|        205|            4|2023-09-22 15:15:00|\n",
      "+--------------+----------+-----------+-------------+-------------------+\n",
      "\n",
      "+----------+------------+-----------+-----+\n",
      "|product_id|product_name|   category|price|\n",
      "+----------+------------+-----------+-----+\n",
      "|       101|      Laptop|Electronics|  800|\n",
      "|       102|  Smartphone|Electronics|  600|\n",
      "|       103|        Desk|  Furniture|  250|\n",
      "|       104|  Headphones|Electronics|  100|\n",
      "|       105|       Chair|  Furniture|  150|\n",
      "+----------+------------+-----------+-----+\n",
      "\n"
     ]
    }
   ],
   "source": [
    "df_sales.show()\n",
    "df_product.show()"
   ]
  },
  {
   "cell_type": "code",
   "execution_count": 10,
   "id": "a473e7c0",
   "metadata": {},
   "outputs": [
    {
     "name": "stdout",
     "output_type": "stream",
     "text": [
      "+--------------+----------+-----------+-------------+-------------------+----------+------------+-----------+-----+\n",
      "|transaction_id|product_id|customer_id|quantity_sold|          timestamp|product_id|product_name|   category|price|\n",
      "+--------------+----------+-----------+-------------+-------------------+----------+------------+-----------+-----+\n",
      "|             1|       101|        201|            5|2023-09-22 10:15:00|       101|      Laptop|Electronics|  800|\n",
      "|             1|       101|        201|            5|2023-09-22 10:15:00|       102|  Smartphone|Electronics|  600|\n",
      "|             1|       101|        201|            5|2023-09-22 10:15:00|       103|        Desk|  Furniture|  250|\n",
      "|             1|       101|        201|            5|2023-09-22 10:15:00|       104|  Headphones|Electronics|  100|\n",
      "|             1|       101|        201|            5|2023-09-22 10:15:00|       105|       Chair|  Furniture|  150|\n",
      "|             2|       102|        202|            3|2023-09-22 11:30:00|       101|      Laptop|Electronics|  800|\n",
      "|             2|       102|        202|            3|2023-09-22 11:30:00|       102|  Smartphone|Electronics|  600|\n",
      "|             2|       102|        202|            3|2023-09-22 11:30:00|       103|        Desk|  Furniture|  250|\n",
      "|             2|       102|        202|            3|2023-09-22 11:30:00|       104|  Headphones|Electronics|  100|\n",
      "|             2|       102|        202|            3|2023-09-22 11:30:00|       105|       Chair|  Furniture|  150|\n",
      "|             3|       101|        203|            2|2023-09-22 12:45:00|       101|      Laptop|Electronics|  800|\n",
      "|             3|       101|        203|            2|2023-09-22 12:45:00|       102|  Smartphone|Electronics|  600|\n",
      "|             3|       101|        203|            2|2023-09-22 12:45:00|       103|        Desk|  Furniture|  250|\n",
      "|             3|       101|        203|            2|2023-09-22 12:45:00|       104|  Headphones|Electronics|  100|\n",
      "|             3|       101|        203|            2|2023-09-22 12:45:00|       105|       Chair|  Furniture|  150|\n",
      "|             4|       103|        204|            1|2023-09-22 14:00:00|       101|      Laptop|Electronics|  800|\n",
      "|             4|       103|        204|            1|2023-09-22 14:00:00|       102|  Smartphone|Electronics|  600|\n",
      "|             4|       103|        204|            1|2023-09-22 14:00:00|       103|        Desk|  Furniture|  250|\n",
      "|             4|       103|        204|            1|2023-09-22 14:00:00|       104|  Headphones|Electronics|  100|\n",
      "|             4|       103|        204|            1|2023-09-22 14:00:00|       105|       Chair|  Furniture|  150|\n",
      "+--------------+----------+-----------+-------------+-------------------+----------+------------+-----------+-----+\n",
      "only showing top 20 rows\n",
      "\n"
     ]
    }
   ],
   "source": [
    "# join: \n",
    "# 1st way\n",
    "df_sales.join(df_product).show()"
   ]
  },
  {
   "cell_type": "code",
   "execution_count": 26,
   "id": "52a4d421",
   "metadata": {},
   "outputs": [
    {
     "name": "stdout",
     "output_type": "stream",
     "text": [
      "+----------+--------------+-----------+-------------+-------------------+------------+-----------+-----+\n",
      "|product_id|transaction_id|customer_id|quantity_sold|          timestamp|product_name|   category|price|\n",
      "+----------+--------------+-----------+-------------+-------------------+------------+-----------+-----+\n",
      "|       101|             1|        201|            5|2023-09-22 10:15:00|      Laptop|Electronics|  800|\n",
      "|       102|             2|        202|            3|2023-09-22 11:30:00|  Smartphone|Electronics|  600|\n",
      "|       101|             3|        203|            2|2023-09-22 12:45:00|      Laptop|Electronics|  800|\n",
      "|       103|             4|        204|            1|2023-09-22 14:00:00|        Desk|  Furniture|  250|\n",
      "|       102|             5|        205|            4|2023-09-22 15:15:00|  Smartphone|Electronics|  600|\n",
      "+----------+--------------+-----------+-------------+-------------------+------------+-----------+-----+\n",
      "\n"
     ]
    }
   ],
   "source": [
    "# joins using another way \n",
    "df3salesproduct =df_sales.join(df_product,on='product_id')\n",
    "df3salesproduct.show()"
   ]
  },
  {
   "cell_type": "code",
   "execution_count": 28,
   "id": "98e6ac82",
   "metadata": {},
   "outputs": [
    {
     "name": "stdout",
     "output_type": "stream",
     "text": [
      "+--------------+----------+-----------+-------------+-------------------+----------+------------+-----------+-----+\n",
      "|transaction_id|product_id|customer_id|quantity_sold|          timestamp|product_id|product_name|   category|price|\n",
      "+--------------+----------+-----------+-------------+-------------------+----------+------------+-----------+-----+\n",
      "|             1|       101|        201|            5|2023-09-22 10:15:00|       101|      Laptop|Electronics|  800|\n",
      "|             2|       102|        202|            3|2023-09-22 11:30:00|       102|  Smartphone|Electronics|  600|\n",
      "|             3|       101|        203|            2|2023-09-22 12:45:00|       101|      Laptop|Electronics|  800|\n",
      "|             4|       103|        204|            1|2023-09-22 14:00:00|       103|        Desk|  Furniture|  250|\n",
      "|             5|       102|        205|            4|2023-09-22 15:15:00|       102|  Smartphone|Electronics|  600|\n",
      "+--------------+----------+-----------+-------------+-------------------+----------+------------+-----------+-----+\n",
      "\n"
     ]
    }
   ],
   "source": [
    "#if we don't have matching column name in both the tables then \n",
    "df_sales.join(df_product,df_sales['product_id']==df_product['product_id']).show()"
   ]
  },
  {
   "cell_type": "code",
   "execution_count": 15,
   "id": "75065623",
   "metadata": {},
   "outputs": [
    {
     "name": "stdout",
     "output_type": "stream",
     "text": [
      "+--------------+----------+-----------+-------------+-------------------+----------+------------+-----------+-----+\n",
      "|transaction_id|product_id|customer_id|quantity_sold|          timestamp|product_id|product_name|   category|price|\n",
      "+--------------+----------+-----------+-------------+-------------------+----------+------------+-----------+-----+\n",
      "|             1|       101|        201|            5|2023-09-22 10:15:00|       101|      Laptop|Electronics|  800|\n",
      "|             2|       102|        202|            3|2023-09-22 11:30:00|       102|  Smartphone|Electronics|  600|\n",
      "|             3|       101|        203|            2|2023-09-22 12:45:00|       101|      Laptop|Electronics|  800|\n",
      "|             4|       103|        204|            1|2023-09-22 14:00:00|       103|        Desk|  Furniture|  250|\n",
      "|             5|       102|        205|            4|2023-09-22 15:15:00|       102|  Smartphone|Electronics|  600|\n",
      "+--------------+----------+-----------+-------------+-------------------+----------+------------+-----------+-----+\n",
      "\n"
     ]
    }
   ],
   "source": [
    "#3rd way \n",
    "# left join\n",
    "df3_salprod = df_sales.join(df_product,df_sales['product_id']==df_product[\"product_id\"],how=\"left\")\n",
    "df3_salprod.show()"
   ]
  },
  {
   "cell_type": "code",
   "execution_count": 29,
   "id": "2ab882a8",
   "metadata": {},
   "outputs": [
    {
     "name": "stdout",
     "output_type": "stream",
     "text": [
      "+----------+-----------+-------------+\n",
      "|product_id|customer_id|quantity_sold|\n",
      "+----------+-----------+-------------+\n",
      "|       101|        201|            5|\n",
      "|       102|        202|            3|\n",
      "|       101|        203|            2|\n",
      "|       103|        204|            1|\n",
      "|       102|        205|            4|\n",
      "+----------+-----------+-------------+\n",
      "\n"
     ]
    }
   ],
   "source": [
    "#select any 4 columns\n",
    "# df3_salprod.select(\"customer_id\",\"quantity_sold\").show()\n",
    "df3salesproduct.select(\"product_id\",\"customer_id\",\"quantity_sold\").show()\n",
    "# df_sales.join(df_product).select(\"customer_id\",\"quantity_sold\").show()"
   ]
  },
  {
   "cell_type": "code",
   "execution_count": 30,
   "id": "afa08f00",
   "metadata": {},
   "outputs": [],
   "source": [
    "employees = [(1, \"Scott\", \"Tiger\", 1000.0, \n",
    "                      \"united states\", \"+1 123 456 7890\", \"123 45 6789\"\n",
    "                     ),\n",
    "                     (2, \"Henry\", \"Ford\", 1250.0, \n",
    "                      \"India\", \"+91 234 567 8901\", \"456 78 9123\"\n",
    "                     ),\n",
    "                     (3, \"Nick\", \"Junior\", 750.0, \n",
    "                      \"united KINGDOM\", \"+44 111 111 1111\", \"222 33 4444\"\n",
    "                     ),\n",
    "                     (4, \"Bill\", \"Gomes\", 1500.0, \n",
    "                      \"AUSTRALIA\", \"+61 987 654 3210\", \"789 12 6118\"\n",
    "                     )\n",
    "                ]"
   ]
  },
  {
   "cell_type": "code",
   "execution_count": 31,
   "id": "2b963630",
   "metadata": {},
   "outputs": [],
   "source": [
    "employeesDF = spark. \\\n",
    "    createDataFrame(employees,\n",
    "                    schema=\"\"\"employee_id INT, first_name STRING, \n",
    "                    last_name STRING, salary FLOAT, nationality STRING,\n",
    "                    phone_number STRING, ssn STRING\"\"\"\n",
    "                   )"
   ]
  },
  {
   "cell_type": "code",
   "execution_count": 32,
   "id": "afa1791c",
   "metadata": {},
   "outputs": [
    {
     "name": "stderr",
     "output_type": "stream",
     "text": [
      "                                                                                \r"
     ]
    },
    {
     "name": "stdout",
     "output_type": "stream",
     "text": [
      "+-----------+----------+---------+------+--------------+----------------+-----------+\n",
      "|employee_id|first_name|last_name|salary|   nationality|    phone_number|        ssn|\n",
      "+-----------+----------+---------+------+--------------+----------------+-----------+\n",
      "|          1|     Scott|    Tiger|1000.0| united states| +1 123 456 7890|123 45 6789|\n",
      "|          2|     Henry|     Ford|1250.0|         India|+91 234 567 8901|456 78 9123|\n",
      "|          3|      Nick|   Junior| 750.0|united KINGDOM|+44 111 111 1111|222 33 4444|\n",
      "|          4|      Bill|    Gomes|1500.0|     AUSTRALIA|+61 987 654 3210|789 12 6118|\n",
      "+-----------+----------+---------+------+--------------+----------------+-----------+\n",
      "\n"
     ]
    }
   ],
   "source": [
    "employeesDF.show()"
   ]
  },
  {
   "cell_type": "code",
   "execution_count": null,
   "id": "73c7a7f1",
   "metadata": {},
   "outputs": [],
   "source": []
  }
 ],
 "metadata": {
  "kernelspec": {
   "display_name": "Python 3 (ipykernel)",
   "language": "python",
   "name": "python3"
  },
  "language_info": {
   "codemirror_mode": {
    "name": "ipython",
    "version": 3
   },
   "file_extension": ".py",
   "mimetype": "text/x-python",
   "name": "python",
   "nbconvert_exporter": "python",
   "pygments_lexer": "ipython3",
   "version": "3.11.4"
  }
 },
 "nbformat": 4,
 "nbformat_minor": 5
}
